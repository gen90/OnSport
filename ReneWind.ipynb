{
 "cells": [
  {
   "cell_type": "markdown",
   "metadata": {
    "id": "YTfbltWs4jaf"
   },
   "source": [
    "# ReneWind\n",
    "\n",
    "Renewable energy sources play an increasingly important role in the global energy mix, as the effort to reduce the environmental impact of energy production increases.\n",
    "\n",
    "Out of all the renewable energy alternatives, wind energy is one of the most developed technologies worldwide. The U.S Department of Energy has put together a guide to achieving operational efficiency using predictive maintenance practices.\n",
    "\n",
    "Predictive maintenance uses sensor information and analysis methods to measure and predict degradation and future component capability. The idea behind predictive maintenance is that failure patterns are predictable and if component failure can be predicted accurately and the component is replaced before it fails, the costs of operation and maintenance will be much lower.\n",
    "\n",
    "The sensors fitted across different machines involved in the process of energy generation collect data related to various environmental factors (temperature, humidity, wind speed, etc.) and additional features related to various parts of the wind turbine (gearbox, tower, blades, break, etc.). \n",
    "\n",
    "\n",
    "\n",
    "## Objective\n",
    "“ReneWind” is a company working on improving the machinery/processes involved in the production of wind energy using machine learning and has collected data of generator failure of wind turbines using sensors. They have shared a ciphered version of the data, as the data collected through sensors is confidential (the type of data collected varies with companies). Data has 40 predictors, 40000 observations in the training set and 10000 in the test set.\n",
    "\n",
    "The objective is to build various classification models, tune them and find the best one that will help identify failures so that the generator could be repaired before failing/breaking and the overall maintenance cost of the generators can be brought down. \n",
    "\n",
    "“1” in the target variables should be considered as “failure” and “0” will represent “No failure”.\n",
    "\n",
    "The nature of predictions made by the classification model will translate as follows:\n",
    "\n",
    "- True positives (TP) are failures correctly predicted by the model.\n",
    "- False negatives (FN) are real failures in a wind turbine where there is no detection by model. \n",
    "- False positives (FP) are detections in a wind turbine where there is no failure. \n",
    "\n",
    "So, the maintenance cost associated with the model would be:\n",
    "\n",
    "**Maintenance cost** = `TP*(Repair cost) + FN*(Replacement cost) + FP*(Inspection cost)`\n",
    "where,\n",
    "\n",
    "- `Replacement cost = $40,000`\n",
    "- `Repair cost = $15,000`\n",
    "- `Inspection cost = $5,000`\n",
    "\n",
    "Here the objective is to reduce the maintenance cost so, we want a metric that could reduce the maintenance cost.\n",
    "\n",
    "- The minimum possible maintenance cost  =  `Actual failures*(Repair cost) = (TP + FN)*(Repair cost)`\n",
    "- The maintenance cost associated with model = `TP*(Repair cost) + FN*(Replacement cost) + FP*(Inspection cost)`\n",
    "\n",
    "So, we will try to maximize the ratio of minimum possible maintenance cost and the maintenance cost associated with the model.\n",
    "\n",
    "The value of this ratio will lie between 0 and 1, the ratio will be 1 only when the maintenance cost associated with the model will be equal to the minimum possible maintenance cost.\n",
    "\n",
    "## Data Description\n",
    "- The data provided is a transformed version of original data which was collected using sensors.\n",
    "- Train.csv - To be used for training and tuning of models. \n",
    "- Test.csv - To be used only for testing the performance of the final best model.\n",
    "- Both the datasets consist of 40 predictor variables and 1 target variable"
   ]
  },
  {
   "cell_type": "markdown",
   "metadata": {
    "id": "jjFpJBnb4jak"
   },
   "source": [
    "## Importing libraries"
   ]
  },
  {
   "cell_type": "code",
   "execution_count": 105,
   "metadata": {
    "id": "83D17_Wl4jal"
   },
   "outputs": [],
   "source": [
    "import pandas as pd\n",
    "import numpy as np\n",
    "import matplotlib.pyplot as plt\n",
    "%matplotlib inline\n",
    "import warnings\n",
    "warnings.filterwarnings('ignore')\n",
    "import seaborn as sns\n",
    "from sklearn.model_selection import train_test_split, GridSearchCV, StratifiedKFold, cross_val_score, RandomizedSearchCV\n",
    "from sklearn import metrics, tree\n",
    "from sklearn.tree import DecisionTreeClassifier\n",
    "from sklearn.ensemble import BaggingClassifier, RandomForestClassifier, AdaBoostClassifier, GradientBoostingClassifier\n",
    "from sklearn.linear_model import LogisticRegression\n",
    "from sklearn.pipeline import Pipeline\n",
    "from imblearn.over_sampling import SMOTE\n",
    "from imblearn.under_sampling import RandomUnderSampler\n",
    "from xgboost import XGBClassifier\n",
    "from sklearn.metrics import (\n",
    "    f1_score,\n",
    "    accuracy_score,\n",
    "    recall_score,\n",
    "    precision_score,\n",
    "    confusion_matrix,\n",
    "    roc_auc_score,\n",
    "    plot_confusion_matrix,\n",
    ")\n",
    "\n",
    "# To be used for creating pipelines and personalizing them\n",
    "from sklearn.pipeline import Pipeline\n",
    "from sklearn.compose import ColumnTransformer\n",
    "\n",
    "# To be used for data scaling and one hot encoding\n",
    "from sklearn.preprocessing import StandardScaler, MinMaxScaler, OneHotEncoder\n",
    "\n",
    "from sklearn.impute import SimpleImputer"
   ]
  },
  {
   "cell_type": "markdown",
   "metadata": {
    "id": "vqF4q7G94jam"
   },
   "source": [
    "## Loading Data"
   ]
  },
  {
   "cell_type": "code",
   "execution_count": 3,
   "metadata": {
    "id": "oJnKoHy14jam"
   },
   "outputs": [],
   "source": [
    "train = pd.read_csv('Train.csv')\n",
    "test = pd.read_csv('Test.csv')"
   ]
  },
  {
   "cell_type": "code",
   "execution_count": 4,
   "metadata": {},
   "outputs": [
    {
     "data": {
      "text/html": [
       "<div>\n",
       "<style scoped>\n",
       "    .dataframe tbody tr th:only-of-type {\n",
       "        vertical-align: middle;\n",
       "    }\n",
       "\n",
       "    .dataframe tbody tr th {\n",
       "        vertical-align: top;\n",
       "    }\n",
       "\n",
       "    .dataframe thead th {\n",
       "        text-align: right;\n",
       "    }\n",
       "</style>\n",
       "<table border=\"1\" class=\"dataframe\">\n",
       "  <thead>\n",
       "    <tr style=\"text-align: right;\">\n",
       "      <th></th>\n",
       "      <th>V1</th>\n",
       "      <th>V2</th>\n",
       "      <th>V3</th>\n",
       "      <th>V4</th>\n",
       "      <th>V5</th>\n",
       "      <th>V6</th>\n",
       "      <th>V7</th>\n",
       "      <th>V8</th>\n",
       "      <th>V9</th>\n",
       "      <th>V10</th>\n",
       "      <th>...</th>\n",
       "      <th>V32</th>\n",
       "      <th>V33</th>\n",
       "      <th>V34</th>\n",
       "      <th>V35</th>\n",
       "      <th>V36</th>\n",
       "      <th>V37</th>\n",
       "      <th>V38</th>\n",
       "      <th>V39</th>\n",
       "      <th>V40</th>\n",
       "      <th>Target</th>\n",
       "    </tr>\n",
       "  </thead>\n",
       "  <tbody>\n",
       "    <tr>\n",
       "      <th>0</th>\n",
       "      <td>-4.464606</td>\n",
       "      <td>-4.679129</td>\n",
       "      <td>3.101546</td>\n",
       "      <td>0.506130</td>\n",
       "      <td>-0.221083</td>\n",
       "      <td>-2.032511</td>\n",
       "      <td>-2.910870</td>\n",
       "      <td>0.050714</td>\n",
       "      <td>-1.522351</td>\n",
       "      <td>3.761892</td>\n",
       "      <td>...</td>\n",
       "      <td>3.059700</td>\n",
       "      <td>-1.690440</td>\n",
       "      <td>2.846296</td>\n",
       "      <td>2.235198</td>\n",
       "      <td>6.667486</td>\n",
       "      <td>0.443809</td>\n",
       "      <td>-2.369169</td>\n",
       "      <td>2.950578</td>\n",
       "      <td>-3.480324</td>\n",
       "      <td>0</td>\n",
       "    </tr>\n",
       "    <tr>\n",
       "      <th>1</th>\n",
       "      <td>-2.909996</td>\n",
       "      <td>-2.568662</td>\n",
       "      <td>4.109032</td>\n",
       "      <td>1.316672</td>\n",
       "      <td>-1.620594</td>\n",
       "      <td>-3.827212</td>\n",
       "      <td>-1.616970</td>\n",
       "      <td>0.669006</td>\n",
       "      <td>0.387045</td>\n",
       "      <td>0.853814</td>\n",
       "      <td>...</td>\n",
       "      <td>-3.782686</td>\n",
       "      <td>-6.823172</td>\n",
       "      <td>4.908562</td>\n",
       "      <td>0.481554</td>\n",
       "      <td>5.338051</td>\n",
       "      <td>2.381297</td>\n",
       "      <td>-3.127756</td>\n",
       "      <td>3.527309</td>\n",
       "      <td>-3.019581</td>\n",
       "      <td>0</td>\n",
       "    </tr>\n",
       "    <tr>\n",
       "      <th>2</th>\n",
       "      <td>4.283674</td>\n",
       "      <td>5.105381</td>\n",
       "      <td>6.092238</td>\n",
       "      <td>2.639922</td>\n",
       "      <td>-1.041357</td>\n",
       "      <td>1.308419</td>\n",
       "      <td>-1.876140</td>\n",
       "      <td>-9.582412</td>\n",
       "      <td>3.469504</td>\n",
       "      <td>0.763395</td>\n",
       "      <td>...</td>\n",
       "      <td>-3.097934</td>\n",
       "      <td>2.690334</td>\n",
       "      <td>-1.643048</td>\n",
       "      <td>7.566482</td>\n",
       "      <td>-3.197647</td>\n",
       "      <td>-3.495672</td>\n",
       "      <td>8.104779</td>\n",
       "      <td>0.562085</td>\n",
       "      <td>-4.227426</td>\n",
       "      <td>0</td>\n",
       "    </tr>\n",
       "    <tr>\n",
       "      <th>3</th>\n",
       "      <td>3.365912</td>\n",
       "      <td>3.653381</td>\n",
       "      <td>0.909671</td>\n",
       "      <td>-1.367528</td>\n",
       "      <td>0.332016</td>\n",
       "      <td>2.358938</td>\n",
       "      <td>0.732600</td>\n",
       "      <td>-4.332135</td>\n",
       "      <td>0.565695</td>\n",
       "      <td>-0.101080</td>\n",
       "      <td>...</td>\n",
       "      <td>-1.795474</td>\n",
       "      <td>3.032780</td>\n",
       "      <td>-2.467514</td>\n",
       "      <td>1.894599</td>\n",
       "      <td>-2.297780</td>\n",
       "      <td>-1.731048</td>\n",
       "      <td>5.908837</td>\n",
       "      <td>-0.386345</td>\n",
       "      <td>0.616242</td>\n",
       "      <td>0</td>\n",
       "    </tr>\n",
       "    <tr>\n",
       "      <th>4</th>\n",
       "      <td>-3.831843</td>\n",
       "      <td>-5.824444</td>\n",
       "      <td>0.634031</td>\n",
       "      <td>-2.418815</td>\n",
       "      <td>-1.773827</td>\n",
       "      <td>1.016824</td>\n",
       "      <td>-2.098941</td>\n",
       "      <td>-3.173204</td>\n",
       "      <td>-2.081860</td>\n",
       "      <td>5.392621</td>\n",
       "      <td>...</td>\n",
       "      <td>-0.257101</td>\n",
       "      <td>0.803550</td>\n",
       "      <td>4.086219</td>\n",
       "      <td>2.292138</td>\n",
       "      <td>5.360850</td>\n",
       "      <td>0.351993</td>\n",
       "      <td>2.940021</td>\n",
       "      <td>3.839160</td>\n",
       "      <td>-4.309402</td>\n",
       "      <td>0</td>\n",
       "    </tr>\n",
       "  </tbody>\n",
       "</table>\n",
       "<p>5 rows × 41 columns</p>\n",
       "</div>"
      ],
      "text/plain": [
       "         V1        V2        V3        V4        V5        V6        V7  \\\n",
       "0 -4.464606 -4.679129  3.101546  0.506130 -0.221083 -2.032511 -2.910870   \n",
       "1 -2.909996 -2.568662  4.109032  1.316672 -1.620594 -3.827212 -1.616970   \n",
       "2  4.283674  5.105381  6.092238  2.639922 -1.041357  1.308419 -1.876140   \n",
       "3  3.365912  3.653381  0.909671 -1.367528  0.332016  2.358938  0.732600   \n",
       "4 -3.831843 -5.824444  0.634031 -2.418815 -1.773827  1.016824 -2.098941   \n",
       "\n",
       "         V8        V9       V10  ...       V32       V33       V34       V35  \\\n",
       "0  0.050714 -1.522351  3.761892  ...  3.059700 -1.690440  2.846296  2.235198   \n",
       "1  0.669006  0.387045  0.853814  ... -3.782686 -6.823172  4.908562  0.481554   \n",
       "2 -9.582412  3.469504  0.763395  ... -3.097934  2.690334 -1.643048  7.566482   \n",
       "3 -4.332135  0.565695 -0.101080  ... -1.795474  3.032780 -2.467514  1.894599   \n",
       "4 -3.173204 -2.081860  5.392621  ... -0.257101  0.803550  4.086219  2.292138   \n",
       "\n",
       "        V36       V37       V38       V39       V40  Target  \n",
       "0  6.667486  0.443809 -2.369169  2.950578 -3.480324       0  \n",
       "1  5.338051  2.381297 -3.127756  3.527309 -3.019581       0  \n",
       "2 -3.197647 -3.495672  8.104779  0.562085 -4.227426       0  \n",
       "3 -2.297780 -1.731048  5.908837 -0.386345  0.616242       0  \n",
       "4  5.360850  0.351993  2.940021  3.839160 -4.309402       0  \n",
       "\n",
       "[5 rows x 41 columns]"
      ]
     },
     "execution_count": 4,
     "metadata": {},
     "output_type": "execute_result"
    }
   ],
   "source": [
    "# Visualizing the train set of data\n",
    "train.head()"
   ]
  },
  {
   "cell_type": "code",
   "execution_count": 5,
   "metadata": {},
   "outputs": [
    {
     "data": {
      "text/html": [
       "<div>\n",
       "<style scoped>\n",
       "    .dataframe tbody tr th:only-of-type {\n",
       "        vertical-align: middle;\n",
       "    }\n",
       "\n",
       "    .dataframe tbody tr th {\n",
       "        vertical-align: top;\n",
       "    }\n",
       "\n",
       "    .dataframe thead th {\n",
       "        text-align: right;\n",
       "    }\n",
       "</style>\n",
       "<table border=\"1\" class=\"dataframe\">\n",
       "  <thead>\n",
       "    <tr style=\"text-align: right;\">\n",
       "      <th></th>\n",
       "      <th>V1</th>\n",
       "      <th>V2</th>\n",
       "      <th>V3</th>\n",
       "      <th>V4</th>\n",
       "      <th>V5</th>\n",
       "      <th>V6</th>\n",
       "      <th>V7</th>\n",
       "      <th>V8</th>\n",
       "      <th>V9</th>\n",
       "      <th>V10</th>\n",
       "      <th>...</th>\n",
       "      <th>V32</th>\n",
       "      <th>V33</th>\n",
       "      <th>V34</th>\n",
       "      <th>V35</th>\n",
       "      <th>V36</th>\n",
       "      <th>V37</th>\n",
       "      <th>V38</th>\n",
       "      <th>V39</th>\n",
       "      <th>V40</th>\n",
       "      <th>Target</th>\n",
       "    </tr>\n",
       "  </thead>\n",
       "  <tbody>\n",
       "    <tr>\n",
       "      <th>0</th>\n",
       "      <td>-0.613489</td>\n",
       "      <td>-3.819640</td>\n",
       "      <td>2.202302</td>\n",
       "      <td>1.300420</td>\n",
       "      <td>-1.184929</td>\n",
       "      <td>-4.495964</td>\n",
       "      <td>-1.835817</td>\n",
       "      <td>4.722989</td>\n",
       "      <td>1.206140</td>\n",
       "      <td>-0.341909</td>\n",
       "      <td>...</td>\n",
       "      <td>2.291204</td>\n",
       "      <td>-5.411388</td>\n",
       "      <td>0.870073</td>\n",
       "      <td>0.574479</td>\n",
       "      <td>4.157191</td>\n",
       "      <td>1.428093</td>\n",
       "      <td>-10.511342</td>\n",
       "      <td>0.454664</td>\n",
       "      <td>-1.448363</td>\n",
       "      <td>0</td>\n",
       "    </tr>\n",
       "    <tr>\n",
       "      <th>1</th>\n",
       "      <td>-0.732692</td>\n",
       "      <td>2.209513</td>\n",
       "      <td>8.083006</td>\n",
       "      <td>7.062533</td>\n",
       "      <td>-1.510459</td>\n",
       "      <td>-3.260527</td>\n",
       "      <td>-3.333773</td>\n",
       "      <td>-3.018543</td>\n",
       "      <td>3.556598</td>\n",
       "      <td>-1.510685</td>\n",
       "      <td>...</td>\n",
       "      <td>-3.270366</td>\n",
       "      <td>-1.806367</td>\n",
       "      <td>1.797525</td>\n",
       "      <td>5.895108</td>\n",
       "      <td>-1.312278</td>\n",
       "      <td>-0.765156</td>\n",
       "      <td>-1.407807</td>\n",
       "      <td>0.557128</td>\n",
       "      <td>-4.049262</td>\n",
       "      <td>0</td>\n",
       "    </tr>\n",
       "    <tr>\n",
       "      <th>2</th>\n",
       "      <td>0.389608</td>\n",
       "      <td>-0.512341</td>\n",
       "      <td>0.527053</td>\n",
       "      <td>-2.576776</td>\n",
       "      <td>-1.016766</td>\n",
       "      <td>2.235112</td>\n",
       "      <td>-0.441301</td>\n",
       "      <td>-4.405744</td>\n",
       "      <td>-0.332869</td>\n",
       "      <td>1.966794</td>\n",
       "      <td>...</td>\n",
       "      <td>-2.474936</td>\n",
       "      <td>2.493582</td>\n",
       "      <td>0.315165</td>\n",
       "      <td>2.059288</td>\n",
       "      <td>0.683859</td>\n",
       "      <td>-0.485452</td>\n",
       "      <td>5.128350</td>\n",
       "      <td>1.720744</td>\n",
       "      <td>-1.488235</td>\n",
       "      <td>0</td>\n",
       "    </tr>\n",
       "    <tr>\n",
       "      <th>3</th>\n",
       "      <td>3.412089</td>\n",
       "      <td>1.153345</td>\n",
       "      <td>2.114167</td>\n",
       "      <td>-2.275466</td>\n",
       "      <td>0.087845</td>\n",
       "      <td>-0.009578</td>\n",
       "      <td>0.514235</td>\n",
       "      <td>-1.370917</td>\n",
       "      <td>1.862913</td>\n",
       "      <td>-0.031132</td>\n",
       "      <td>...</td>\n",
       "      <td>-2.496609</td>\n",
       "      <td>-1.776174</td>\n",
       "      <td>-1.712035</td>\n",
       "      <td>-1.506021</td>\n",
       "      <td>2.242186</td>\n",
       "      <td>-0.657637</td>\n",
       "      <td>-1.861584</td>\n",
       "      <td>0.845768</td>\n",
       "      <td>0.857333</td>\n",
       "      <td>0</td>\n",
       "    </tr>\n",
       "    <tr>\n",
       "      <th>4</th>\n",
       "      <td>-0.874861</td>\n",
       "      <td>-0.640632</td>\n",
       "      <td>4.084202</td>\n",
       "      <td>-1.590454</td>\n",
       "      <td>0.525855</td>\n",
       "      <td>-1.957592</td>\n",
       "      <td>-0.695367</td>\n",
       "      <td>1.347309</td>\n",
       "      <td>-1.732348</td>\n",
       "      <td>0.466500</td>\n",
       "      <td>...</td>\n",
       "      <td>-1.318888</td>\n",
       "      <td>-2.997464</td>\n",
       "      <td>0.459664</td>\n",
       "      <td>0.619774</td>\n",
       "      <td>5.631504</td>\n",
       "      <td>1.323512</td>\n",
       "      <td>-1.752154</td>\n",
       "      <td>1.808302</td>\n",
       "      <td>1.675748</td>\n",
       "      <td>0</td>\n",
       "    </tr>\n",
       "  </tbody>\n",
       "</table>\n",
       "<p>5 rows × 41 columns</p>\n",
       "</div>"
      ],
      "text/plain": [
       "         V1        V2        V3        V4        V5        V6        V7  \\\n",
       "0 -0.613489 -3.819640  2.202302  1.300420 -1.184929 -4.495964 -1.835817   \n",
       "1 -0.732692  2.209513  8.083006  7.062533 -1.510459 -3.260527 -3.333773   \n",
       "2  0.389608 -0.512341  0.527053 -2.576776 -1.016766  2.235112 -0.441301   \n",
       "3  3.412089  1.153345  2.114167 -2.275466  0.087845 -0.009578  0.514235   \n",
       "4 -0.874861 -0.640632  4.084202 -1.590454  0.525855 -1.957592 -0.695367   \n",
       "\n",
       "         V8        V9       V10  ...       V32       V33       V34       V35  \\\n",
       "0  4.722989  1.206140 -0.341909  ...  2.291204 -5.411388  0.870073  0.574479   \n",
       "1 -3.018543  3.556598 -1.510685  ... -3.270366 -1.806367  1.797525  5.895108   \n",
       "2 -4.405744 -0.332869  1.966794  ... -2.474936  2.493582  0.315165  2.059288   \n",
       "3 -1.370917  1.862913 -0.031132  ... -2.496609 -1.776174 -1.712035 -1.506021   \n",
       "4  1.347309 -1.732348  0.466500  ... -1.318888 -2.997464  0.459664  0.619774   \n",
       "\n",
       "        V36       V37        V38       V39       V40  Target  \n",
       "0  4.157191  1.428093 -10.511342  0.454664 -1.448363       0  \n",
       "1 -1.312278 -0.765156  -1.407807  0.557128 -4.049262       0  \n",
       "2  0.683859 -0.485452   5.128350  1.720744 -1.488235       0  \n",
       "3  2.242186 -0.657637  -1.861584  0.845768  0.857333       0  \n",
       "4  5.631504  1.323512  -1.752154  1.808302  1.675748       0  \n",
       "\n",
       "[5 rows x 41 columns]"
      ]
     },
     "execution_count": 5,
     "metadata": {},
     "output_type": "execute_result"
    }
   ],
   "source": [
    "# Visualizing the test set of data\n",
    "test.head()"
   ]
  },
  {
   "cell_type": "code",
   "execution_count": 6,
   "metadata": {},
   "outputs": [
    {
     "name": "stdout",
     "output_type": "stream",
     "text": [
      "The shape of the training data is:  (40000, 41)\n",
      "The shape of the test data is:  (10000, 41)\n"
     ]
    }
   ],
   "source": [
    "print('The shape of the training data is: ',train.shape)\n",
    "print('The shape of the test data is: ',test.shape)"
   ]
  },
  {
   "cell_type": "markdown",
   "metadata": {
    "id": "DVCj6_DD4jan"
   },
   "source": [
    "## EDA and insights"
   ]
  },
  {
   "cell_type": "code",
   "execution_count": 7,
   "metadata": {
    "id": "W91y_f944jan"
   },
   "outputs": [
    {
     "data": {
      "text/html": [
       "<div>\n",
       "<style scoped>\n",
       "    .dataframe tbody tr th:only-of-type {\n",
       "        vertical-align: middle;\n",
       "    }\n",
       "\n",
       "    .dataframe tbody tr th {\n",
       "        vertical-align: top;\n",
       "    }\n",
       "\n",
       "    .dataframe thead th {\n",
       "        text-align: right;\n",
       "    }\n",
       "</style>\n",
       "<table border=\"1\" class=\"dataframe\">\n",
       "  <thead>\n",
       "    <tr style=\"text-align: right;\">\n",
       "      <th></th>\n",
       "      <th>V1</th>\n",
       "      <th>V2</th>\n",
       "      <th>V3</th>\n",
       "      <th>V4</th>\n",
       "      <th>V5</th>\n",
       "      <th>V6</th>\n",
       "      <th>V7</th>\n",
       "      <th>V8</th>\n",
       "      <th>V9</th>\n",
       "      <th>V10</th>\n",
       "      <th>...</th>\n",
       "      <th>V32</th>\n",
       "      <th>V33</th>\n",
       "      <th>V34</th>\n",
       "      <th>V35</th>\n",
       "      <th>V36</th>\n",
       "      <th>V37</th>\n",
       "      <th>V38</th>\n",
       "      <th>V39</th>\n",
       "      <th>V40</th>\n",
       "      <th>Target</th>\n",
       "    </tr>\n",
       "  </thead>\n",
       "  <tbody>\n",
       "    <tr>\n",
       "      <th>count</th>\n",
       "      <td>39954.000000</td>\n",
       "      <td>39961.000000</td>\n",
       "      <td>40000.000000</td>\n",
       "      <td>40000.000000</td>\n",
       "      <td>40000.000000</td>\n",
       "      <td>40000.000000</td>\n",
       "      <td>40000.000000</td>\n",
       "      <td>40000.000000</td>\n",
       "      <td>40000.000000</td>\n",
       "      <td>40000.000000</td>\n",
       "      <td>...</td>\n",
       "      <td>40000.000000</td>\n",
       "      <td>40000.000000</td>\n",
       "      <td>40000.000000</td>\n",
       "      <td>40000.000000</td>\n",
       "      <td>40000.000000</td>\n",
       "      <td>40000.000000</td>\n",
       "      <td>40000.000000</td>\n",
       "      <td>40000.000000</td>\n",
       "      <td>40000.000000</td>\n",
       "      <td>40000.000000</td>\n",
       "    </tr>\n",
       "    <tr>\n",
       "      <th>mean</th>\n",
       "      <td>-0.288120</td>\n",
       "      <td>0.442672</td>\n",
       "      <td>2.505514</td>\n",
       "      <td>-0.066078</td>\n",
       "      <td>-0.044574</td>\n",
       "      <td>-1.000849</td>\n",
       "      <td>-0.892793</td>\n",
       "      <td>-0.563123</td>\n",
       "      <td>-0.007739</td>\n",
       "      <td>-0.001848</td>\n",
       "      <td>...</td>\n",
       "      <td>0.326831</td>\n",
       "      <td>0.056542</td>\n",
       "      <td>-0.464127</td>\n",
       "      <td>2.234861</td>\n",
       "      <td>1.530020</td>\n",
       "      <td>-0.000498</td>\n",
       "      <td>-0.351199</td>\n",
       "      <td>0.900035</td>\n",
       "      <td>-0.897166</td>\n",
       "      <td>0.054675</td>\n",
       "    </tr>\n",
       "    <tr>\n",
       "      <th>std</th>\n",
       "      <td>3.449072</td>\n",
       "      <td>3.139431</td>\n",
       "      <td>3.406263</td>\n",
       "      <td>3.437330</td>\n",
       "      <td>2.107183</td>\n",
       "      <td>2.036756</td>\n",
       "      <td>1.756510</td>\n",
       "      <td>3.298916</td>\n",
       "      <td>2.161833</td>\n",
       "      <td>2.183034</td>\n",
       "      <td>...</td>\n",
       "      <td>5.499369</td>\n",
       "      <td>3.574219</td>\n",
       "      <td>3.185712</td>\n",
       "      <td>2.924185</td>\n",
       "      <td>3.819754</td>\n",
       "      <td>1.778273</td>\n",
       "      <td>3.964186</td>\n",
       "      <td>1.751022</td>\n",
       "      <td>2.997750</td>\n",
       "      <td>0.227348</td>\n",
       "    </tr>\n",
       "    <tr>\n",
       "      <th>min</th>\n",
       "      <td>-13.501880</td>\n",
       "      <td>-13.212051</td>\n",
       "      <td>-11.469369</td>\n",
       "      <td>-16.015417</td>\n",
       "      <td>-8.612973</td>\n",
       "      <td>-10.227147</td>\n",
       "      <td>-8.205806</td>\n",
       "      <td>-15.657561</td>\n",
       "      <td>-8.596313</td>\n",
       "      <td>-11.000790</td>\n",
       "      <td>...</td>\n",
       "      <td>-23.200866</td>\n",
       "      <td>-17.454014</td>\n",
       "      <td>-17.985094</td>\n",
       "      <td>-15.349803</td>\n",
       "      <td>-17.478949</td>\n",
       "      <td>-7.639952</td>\n",
       "      <td>-17.375002</td>\n",
       "      <td>-7.135788</td>\n",
       "      <td>-11.930259</td>\n",
       "      <td>0.000000</td>\n",
       "    </tr>\n",
       "    <tr>\n",
       "      <th>25%</th>\n",
       "      <td>-2.751460</td>\n",
       "      <td>-1.638355</td>\n",
       "      <td>0.202682</td>\n",
       "      <td>-2.349574</td>\n",
       "      <td>-1.507206</td>\n",
       "      <td>-2.363446</td>\n",
       "      <td>-2.036913</td>\n",
       "      <td>-2.660415</td>\n",
       "      <td>-1.493676</td>\n",
       "      <td>-1.390549</td>\n",
       "      <td>...</td>\n",
       "      <td>-3.392115</td>\n",
       "      <td>-2.237550</td>\n",
       "      <td>-2.127757</td>\n",
       "      <td>0.332081</td>\n",
       "      <td>-0.937119</td>\n",
       "      <td>-1.265717</td>\n",
       "      <td>-3.016805</td>\n",
       "      <td>-0.261578</td>\n",
       "      <td>-2.949590</td>\n",
       "      <td>0.000000</td>\n",
       "    </tr>\n",
       "    <tr>\n",
       "      <th>50%</th>\n",
       "      <td>-0.773518</td>\n",
       "      <td>0.463939</td>\n",
       "      <td>2.265319</td>\n",
       "      <td>-0.123691</td>\n",
       "      <td>-0.096824</td>\n",
       "      <td>-1.006635</td>\n",
       "      <td>-0.934738</td>\n",
       "      <td>-0.384188</td>\n",
       "      <td>-0.052085</td>\n",
       "      <td>0.105779</td>\n",
       "      <td>...</td>\n",
       "      <td>0.056243</td>\n",
       "      <td>-0.049729</td>\n",
       "      <td>-0.250842</td>\n",
       "      <td>2.110125</td>\n",
       "      <td>1.571511</td>\n",
       "      <td>-0.132620</td>\n",
       "      <td>-0.318724</td>\n",
       "      <td>0.921321</td>\n",
       "      <td>-0.949269</td>\n",
       "      <td>0.000000</td>\n",
       "    </tr>\n",
       "    <tr>\n",
       "      <th>75%</th>\n",
       "      <td>1.836708</td>\n",
       "      <td>2.537508</td>\n",
       "      <td>4.584920</td>\n",
       "      <td>2.148596</td>\n",
       "      <td>1.346224</td>\n",
       "      <td>0.373909</td>\n",
       "      <td>0.206820</td>\n",
       "      <td>1.714383</td>\n",
       "      <td>1.425713</td>\n",
       "      <td>1.486105</td>\n",
       "      <td>...</td>\n",
       "      <td>3.789241</td>\n",
       "      <td>2.255985</td>\n",
       "      <td>1.432885</td>\n",
       "      <td>4.044659</td>\n",
       "      <td>3.996721</td>\n",
       "      <td>1.160828</td>\n",
       "      <td>2.291342</td>\n",
       "      <td>2.069016</td>\n",
       "      <td>1.092178</td>\n",
       "      <td>0.000000</td>\n",
       "    </tr>\n",
       "    <tr>\n",
       "      <th>max</th>\n",
       "      <td>17.436981</td>\n",
       "      <td>13.089269</td>\n",
       "      <td>18.366477</td>\n",
       "      <td>13.279712</td>\n",
       "      <td>9.403469</td>\n",
       "      <td>7.065470</td>\n",
       "      <td>8.006091</td>\n",
       "      <td>11.679495</td>\n",
       "      <td>8.507138</td>\n",
       "      <td>8.108472</td>\n",
       "      <td>...</td>\n",
       "      <td>24.847833</td>\n",
       "      <td>16.692486</td>\n",
       "      <td>14.358213</td>\n",
       "      <td>16.804859</td>\n",
       "      <td>19.329576</td>\n",
       "      <td>7.803278</td>\n",
       "      <td>15.964053</td>\n",
       "      <td>7.997832</td>\n",
       "      <td>10.654265</td>\n",
       "      <td>1.000000</td>\n",
       "    </tr>\n",
       "  </tbody>\n",
       "</table>\n",
       "<p>8 rows × 41 columns</p>\n",
       "</div>"
      ],
      "text/plain": [
       "                 V1            V2            V3            V4            V5  \\\n",
       "count  39954.000000  39961.000000  40000.000000  40000.000000  40000.000000   \n",
       "mean      -0.288120      0.442672      2.505514     -0.066078     -0.044574   \n",
       "std        3.449072      3.139431      3.406263      3.437330      2.107183   \n",
       "min      -13.501880    -13.212051    -11.469369    -16.015417     -8.612973   \n",
       "25%       -2.751460     -1.638355      0.202682     -2.349574     -1.507206   \n",
       "50%       -0.773518      0.463939      2.265319     -0.123691     -0.096824   \n",
       "75%        1.836708      2.537508      4.584920      2.148596      1.346224   \n",
       "max       17.436981     13.089269     18.366477     13.279712      9.403469   \n",
       "\n",
       "                 V6            V7            V8            V9           V10  \\\n",
       "count  40000.000000  40000.000000  40000.000000  40000.000000  40000.000000   \n",
       "mean      -1.000849     -0.892793     -0.563123     -0.007739     -0.001848   \n",
       "std        2.036756      1.756510      3.298916      2.161833      2.183034   \n",
       "min      -10.227147     -8.205806    -15.657561     -8.596313    -11.000790   \n",
       "25%       -2.363446     -2.036913     -2.660415     -1.493676     -1.390549   \n",
       "50%       -1.006635     -0.934738     -0.384188     -0.052085      0.105779   \n",
       "75%        0.373909      0.206820      1.714383      1.425713      1.486105   \n",
       "max        7.065470      8.006091     11.679495      8.507138      8.108472   \n",
       "\n",
       "       ...           V32           V33           V34           V35  \\\n",
       "count  ...  40000.000000  40000.000000  40000.000000  40000.000000   \n",
       "mean   ...      0.326831      0.056542     -0.464127      2.234861   \n",
       "std    ...      5.499369      3.574219      3.185712      2.924185   \n",
       "min    ...    -23.200866    -17.454014    -17.985094    -15.349803   \n",
       "25%    ...     -3.392115     -2.237550     -2.127757      0.332081   \n",
       "50%    ...      0.056243     -0.049729     -0.250842      2.110125   \n",
       "75%    ...      3.789241      2.255985      1.432885      4.044659   \n",
       "max    ...     24.847833     16.692486     14.358213     16.804859   \n",
       "\n",
       "                V36           V37           V38           V39           V40  \\\n",
       "count  40000.000000  40000.000000  40000.000000  40000.000000  40000.000000   \n",
       "mean       1.530020     -0.000498     -0.351199      0.900035     -0.897166   \n",
       "std        3.819754      1.778273      3.964186      1.751022      2.997750   \n",
       "min      -17.478949     -7.639952    -17.375002     -7.135788    -11.930259   \n",
       "25%       -0.937119     -1.265717     -3.016805     -0.261578     -2.949590   \n",
       "50%        1.571511     -0.132620     -0.318724      0.921321     -0.949269   \n",
       "75%        3.996721      1.160828      2.291342      2.069016      1.092178   \n",
       "max       19.329576      7.803278     15.964053      7.997832     10.654265   \n",
       "\n",
       "             Target  \n",
       "count  40000.000000  \n",
       "mean       0.054675  \n",
       "std        0.227348  \n",
       "min        0.000000  \n",
       "25%        0.000000  \n",
       "50%        0.000000  \n",
       "75%        0.000000  \n",
       "max        1.000000  \n",
       "\n",
       "[8 rows x 41 columns]"
      ]
     },
     "execution_count": 7,
     "metadata": {},
     "output_type": "execute_result"
    }
   ],
   "source": [
    "train.describe()"
   ]
  },
  {
   "cell_type": "code",
   "execution_count": 8,
   "metadata": {},
   "outputs": [
    {
     "data": {
      "text/html": [
       "<div>\n",
       "<style scoped>\n",
       "    .dataframe tbody tr th:only-of-type {\n",
       "        vertical-align: middle;\n",
       "    }\n",
       "\n",
       "    .dataframe tbody tr th {\n",
       "        vertical-align: top;\n",
       "    }\n",
       "\n",
       "    .dataframe thead th {\n",
       "        text-align: right;\n",
       "    }\n",
       "</style>\n",
       "<table border=\"1\" class=\"dataframe\">\n",
       "  <thead>\n",
       "    <tr style=\"text-align: right;\">\n",
       "      <th></th>\n",
       "      <th>V1</th>\n",
       "      <th>V2</th>\n",
       "      <th>V3</th>\n",
       "      <th>V4</th>\n",
       "      <th>V5</th>\n",
       "      <th>V6</th>\n",
       "      <th>V7</th>\n",
       "      <th>V8</th>\n",
       "      <th>V9</th>\n",
       "      <th>V10</th>\n",
       "      <th>...</th>\n",
       "      <th>V32</th>\n",
       "      <th>V33</th>\n",
       "      <th>V34</th>\n",
       "      <th>V35</th>\n",
       "      <th>V36</th>\n",
       "      <th>V37</th>\n",
       "      <th>V38</th>\n",
       "      <th>V39</th>\n",
       "      <th>V40</th>\n",
       "      <th>Target</th>\n",
       "    </tr>\n",
       "  </thead>\n",
       "  <tbody>\n",
       "    <tr>\n",
       "      <th>count</th>\n",
       "      <td>9989.000000</td>\n",
       "      <td>9993.000000</td>\n",
       "      <td>10000.000000</td>\n",
       "      <td>10000.000000</td>\n",
       "      <td>10000.000000</td>\n",
       "      <td>10000.000000</td>\n",
       "      <td>10000.000000</td>\n",
       "      <td>10000.000000</td>\n",
       "      <td>10000.000000</td>\n",
       "      <td>10000.000000</td>\n",
       "      <td>...</td>\n",
       "      <td>10000.000000</td>\n",
       "      <td>10000.000000</td>\n",
       "      <td>10000.000000</td>\n",
       "      <td>10000.000000</td>\n",
       "      <td>10000.000000</td>\n",
       "      <td>10000.000000</td>\n",
       "      <td>10000.000000</td>\n",
       "      <td>10000.000000</td>\n",
       "      <td>10000.000000</td>\n",
       "      <td>10000.000000</td>\n",
       "    </tr>\n",
       "    <tr>\n",
       "      <th>mean</th>\n",
       "      <td>-0.259840</td>\n",
       "      <td>0.416733</td>\n",
       "      <td>2.555405</td>\n",
       "      <td>-0.053760</td>\n",
       "      <td>-0.084812</td>\n",
       "      <td>-1.013953</td>\n",
       "      <td>-0.908349</td>\n",
       "      <td>-0.598872</td>\n",
       "      <td>0.025751</td>\n",
       "      <td>0.019366</td>\n",
       "      <td>...</td>\n",
       "      <td>0.252823</td>\n",
       "      <td>0.008231</td>\n",
       "      <td>-0.422751</td>\n",
       "      <td>2.258233</td>\n",
       "      <td>1.550037</td>\n",
       "      <td>-0.006080</td>\n",
       "      <td>-0.372647</td>\n",
       "      <td>0.919934</td>\n",
       "      <td>-0.936516</td>\n",
       "      <td>0.054700</td>\n",
       "    </tr>\n",
       "    <tr>\n",
       "      <th>std</th>\n",
       "      <td>3.440139</td>\n",
       "      <td>3.159640</td>\n",
       "      <td>3.394924</td>\n",
       "      <td>3.462312</td>\n",
       "      <td>2.101944</td>\n",
       "      <td>2.039330</td>\n",
       "      <td>1.736721</td>\n",
       "      <td>3.342703</td>\n",
       "      <td>2.180268</td>\n",
       "      <td>2.168894</td>\n",
       "      <td>...</td>\n",
       "      <td>5.503483</td>\n",
       "      <td>3.551973</td>\n",
       "      <td>3.167615</td>\n",
       "      <td>2.919060</td>\n",
       "      <td>3.794208</td>\n",
       "      <td>1.782281</td>\n",
       "      <td>3.997659</td>\n",
       "      <td>1.726064</td>\n",
       "      <td>3.011183</td>\n",
       "      <td>0.227405</td>\n",
       "    </tr>\n",
       "    <tr>\n",
       "      <th>min</th>\n",
       "      <td>-12.381696</td>\n",
       "      <td>-11.625356</td>\n",
       "      <td>-12.940616</td>\n",
       "      <td>-14.682446</td>\n",
       "      <td>-7.711569</td>\n",
       "      <td>-8.949383</td>\n",
       "      <td>-8.124230</td>\n",
       "      <td>-12.710064</td>\n",
       "      <td>-7.570282</td>\n",
       "      <td>-8.290688</td>\n",
       "      <td>...</td>\n",
       "      <td>-20.520063</td>\n",
       "      <td>-14.903781</td>\n",
       "      <td>-17.134528</td>\n",
       "      <td>-19.522334</td>\n",
       "      <td>-14.912346</td>\n",
       "      <td>-5.361838</td>\n",
       "      <td>-15.334533</td>\n",
       "      <td>-7.147175</td>\n",
       "      <td>-10.779061</td>\n",
       "      <td>0.000000</td>\n",
       "    </tr>\n",
       "    <tr>\n",
       "      <th>25%</th>\n",
       "      <td>-2.700080</td>\n",
       "      <td>-1.701281</td>\n",
       "      <td>0.238184</td>\n",
       "      <td>-2.371381</td>\n",
       "      <td>-1.592551</td>\n",
       "      <td>-2.376522</td>\n",
       "      <td>-2.034983</td>\n",
       "      <td>-2.684187</td>\n",
       "      <td>-1.490342</td>\n",
       "      <td>-1.362190</td>\n",
       "      <td>...</td>\n",
       "      <td>-3.458870</td>\n",
       "      <td>-2.280224</td>\n",
       "      <td>-2.065867</td>\n",
       "      <td>0.374931</td>\n",
       "      <td>-0.891950</td>\n",
       "      <td>-1.277895</td>\n",
       "      <td>-3.003846</td>\n",
       "      <td>-0.225239</td>\n",
       "      <td>-2.993471</td>\n",
       "      <td>0.000000</td>\n",
       "    </tr>\n",
       "    <tr>\n",
       "      <th>50%</th>\n",
       "      <td>-0.719224</td>\n",
       "      <td>0.456278</td>\n",
       "      <td>2.282670</td>\n",
       "      <td>-0.168953</td>\n",
       "      <td>-0.143658</td>\n",
       "      <td>-1.014574</td>\n",
       "      <td>-0.938351</td>\n",
       "      <td>-0.387062</td>\n",
       "      <td>-0.086089</td>\n",
       "      <td>0.149634</td>\n",
       "      <td>...</td>\n",
       "      <td>-0.013262</td>\n",
       "      <td>-0.099140</td>\n",
       "      <td>-0.203423</td>\n",
       "      <td>2.149482</td>\n",
       "      <td>1.619817</td>\n",
       "      <td>-0.150051</td>\n",
       "      <td>-0.361915</td>\n",
       "      <td>0.933255</td>\n",
       "      <td>-0.986149</td>\n",
       "      <td>0.000000</td>\n",
       "    </tr>\n",
       "    <tr>\n",
       "      <th>75%</th>\n",
       "      <td>1.860839</td>\n",
       "      <td>2.526054</td>\n",
       "      <td>4.656206</td>\n",
       "      <td>2.144304</td>\n",
       "      <td>1.323820</td>\n",
       "      <td>0.353990</td>\n",
       "      <td>0.189024</td>\n",
       "      <td>1.698392</td>\n",
       "      <td>1.465928</td>\n",
       "      <td>1.537166</td>\n",
       "      <td>...</td>\n",
       "      <td>3.761548</td>\n",
       "      <td>2.197857</td>\n",
       "      <td>1.472123</td>\n",
       "      <td>4.088103</td>\n",
       "      <td>4.061276</td>\n",
       "      <td>1.193239</td>\n",
       "      <td>2.334558</td>\n",
       "      <td>2.097337</td>\n",
       "      <td>1.084677</td>\n",
       "      <td>0.000000</td>\n",
       "    </tr>\n",
       "    <tr>\n",
       "      <th>max</th>\n",
       "      <td>13.504352</td>\n",
       "      <td>14.079073</td>\n",
       "      <td>15.408963</td>\n",
       "      <td>12.895544</td>\n",
       "      <td>7.672835</td>\n",
       "      <td>6.272818</td>\n",
       "      <td>7.616182</td>\n",
       "      <td>10.791916</td>\n",
       "      <td>8.850720</td>\n",
       "      <td>7.691455</td>\n",
       "      <td>...</td>\n",
       "      <td>26.539391</td>\n",
       "      <td>13.323517</td>\n",
       "      <td>14.581285</td>\n",
       "      <td>13.489237</td>\n",
       "      <td>17.116122</td>\n",
       "      <td>7.681837</td>\n",
       "      <td>13.725888</td>\n",
       "      <td>7.233951</td>\n",
       "      <td>10.391602</td>\n",
       "      <td>1.000000</td>\n",
       "    </tr>\n",
       "  </tbody>\n",
       "</table>\n",
       "<p>8 rows × 41 columns</p>\n",
       "</div>"
      ],
      "text/plain": [
       "                V1           V2            V3            V4            V5  \\\n",
       "count  9989.000000  9993.000000  10000.000000  10000.000000  10000.000000   \n",
       "mean     -0.259840     0.416733      2.555405     -0.053760     -0.084812   \n",
       "std       3.440139     3.159640      3.394924      3.462312      2.101944   \n",
       "min     -12.381696   -11.625356    -12.940616    -14.682446     -7.711569   \n",
       "25%      -2.700080    -1.701281      0.238184     -2.371381     -1.592551   \n",
       "50%      -0.719224     0.456278      2.282670     -0.168953     -0.143658   \n",
       "75%       1.860839     2.526054      4.656206      2.144304      1.323820   \n",
       "max      13.504352    14.079073     15.408963     12.895544      7.672835   \n",
       "\n",
       "                 V6            V7            V8            V9           V10  \\\n",
       "count  10000.000000  10000.000000  10000.000000  10000.000000  10000.000000   \n",
       "mean      -1.013953     -0.908349     -0.598872      0.025751      0.019366   \n",
       "std        2.039330      1.736721      3.342703      2.180268      2.168894   \n",
       "min       -8.949383     -8.124230    -12.710064     -7.570282     -8.290688   \n",
       "25%       -2.376522     -2.034983     -2.684187     -1.490342     -1.362190   \n",
       "50%       -1.014574     -0.938351     -0.387062     -0.086089      0.149634   \n",
       "75%        0.353990      0.189024      1.698392      1.465928      1.537166   \n",
       "max        6.272818      7.616182     10.791916      8.850720      7.691455   \n",
       "\n",
       "       ...           V32           V33           V34           V35  \\\n",
       "count  ...  10000.000000  10000.000000  10000.000000  10000.000000   \n",
       "mean   ...      0.252823      0.008231     -0.422751      2.258233   \n",
       "std    ...      5.503483      3.551973      3.167615      2.919060   \n",
       "min    ...    -20.520063    -14.903781    -17.134528    -19.522334   \n",
       "25%    ...     -3.458870     -2.280224     -2.065867      0.374931   \n",
       "50%    ...     -0.013262     -0.099140     -0.203423      2.149482   \n",
       "75%    ...      3.761548      2.197857      1.472123      4.088103   \n",
       "max    ...     26.539391     13.323517     14.581285     13.489237   \n",
       "\n",
       "                V36           V37           V38           V39           V40  \\\n",
       "count  10000.000000  10000.000000  10000.000000  10000.000000  10000.000000   \n",
       "mean       1.550037     -0.006080     -0.372647      0.919934     -0.936516   \n",
       "std        3.794208      1.782281      3.997659      1.726064      3.011183   \n",
       "min      -14.912346     -5.361838    -15.334533     -7.147175    -10.779061   \n",
       "25%       -0.891950     -1.277895     -3.003846     -0.225239     -2.993471   \n",
       "50%        1.619817     -0.150051     -0.361915      0.933255     -0.986149   \n",
       "75%        4.061276      1.193239      2.334558      2.097337      1.084677   \n",
       "max       17.116122      7.681837     13.725888      7.233951     10.391602   \n",
       "\n",
       "             Target  \n",
       "count  10000.000000  \n",
       "mean       0.054700  \n",
       "std        0.227405  \n",
       "min        0.000000  \n",
       "25%        0.000000  \n",
       "50%        0.000000  \n",
       "75%        0.000000  \n",
       "max        1.000000  \n",
       "\n",
       "[8 rows x 41 columns]"
      ]
     },
     "execution_count": 8,
     "metadata": {},
     "output_type": "execute_result"
    }
   ],
   "source": [
    "test.describe()"
   ]
  },
  {
   "cell_type": "code",
   "execution_count": 9,
   "metadata": {},
   "outputs": [
    {
     "name": "stdout",
     "output_type": "stream",
     "text": [
      "\n",
      "Missing Values in Train set\n",
      "V1        46\n",
      "V2        39\n",
      "V3         0\n",
      "V4         0\n",
      "V5         0\n",
      "V6         0\n",
      "V7         0\n",
      "V8         0\n",
      "V9         0\n",
      "V10        0\n",
      "V11        0\n",
      "V12        0\n",
      "V13        0\n",
      "V14        0\n",
      "V15        0\n",
      "V16        0\n",
      "V17        0\n",
      "V18        0\n",
      "V19        0\n",
      "V20        0\n",
      "V21        0\n",
      "V22        0\n",
      "V23        0\n",
      "V24        0\n",
      "V25        0\n",
      "V26        0\n",
      "V27        0\n",
      "V28        0\n",
      "V29        0\n",
      "V30        0\n",
      "V31        0\n",
      "V32        0\n",
      "V33        0\n",
      "V34        0\n",
      "V35        0\n",
      "V36        0\n",
      "V37        0\n",
      "V38        0\n",
      "V39        0\n",
      "V40        0\n",
      "Target     0\n",
      "dtype: int64\n"
     ]
    }
   ],
   "source": [
    "#Checking for missing values\n",
    "print(\"\\nMissing Values in Train set\")\n",
    "print(train.isnull().sum())"
   ]
  },
  {
   "cell_type": "code",
   "execution_count": 10,
   "metadata": {},
   "outputs": [
    {
     "name": "stdout",
     "output_type": "stream",
     "text": [
      "\n",
      "Missing Values in Test set\n",
      "V1        11\n",
      "V2         7\n",
      "V3         0\n",
      "V4         0\n",
      "V5         0\n",
      "V6         0\n",
      "V7         0\n",
      "V8         0\n",
      "V9         0\n",
      "V10        0\n",
      "V11        0\n",
      "V12        0\n",
      "V13        0\n",
      "V14        0\n",
      "V15        0\n",
      "V16        0\n",
      "V17        0\n",
      "V18        0\n",
      "V19        0\n",
      "V20        0\n",
      "V21        0\n",
      "V22        0\n",
      "V23        0\n",
      "V24        0\n",
      "V25        0\n",
      "V26        0\n",
      "V27        0\n",
      "V28        0\n",
      "V29        0\n",
      "V30        0\n",
      "V31        0\n",
      "V32        0\n",
      "V33        0\n",
      "V34        0\n",
      "V35        0\n",
      "V36        0\n",
      "V37        0\n",
      "V38        0\n",
      "V39        0\n",
      "V40        0\n",
      "Target     0\n",
      "dtype: int64\n"
     ]
    }
   ],
   "source": [
    "print(\"\\nMissing Values in Test set\")\n",
    "print(test.isnull().sum())"
   ]
  },
  {
   "cell_type": "code",
   "execution_count": 11,
   "metadata": {},
   "outputs": [
    {
     "data": {
      "text/html": [
       "<div>\n",
       "<style scoped>\n",
       "    .dataframe tbody tr th:only-of-type {\n",
       "        vertical-align: middle;\n",
       "    }\n",
       "\n",
       "    .dataframe tbody tr th {\n",
       "        vertical-align: top;\n",
       "    }\n",
       "\n",
       "    .dataframe thead th {\n",
       "        text-align: right;\n",
       "    }\n",
       "</style>\n",
       "<table border=\"1\" class=\"dataframe\">\n",
       "  <thead>\n",
       "    <tr style=\"text-align: right;\">\n",
       "      <th></th>\n",
       "      <th>V1</th>\n",
       "      <th>V2</th>\n",
       "      <th>V3</th>\n",
       "      <th>V4</th>\n",
       "      <th>V5</th>\n",
       "      <th>V6</th>\n",
       "      <th>V7</th>\n",
       "      <th>V8</th>\n",
       "      <th>V9</th>\n",
       "      <th>V10</th>\n",
       "      <th>...</th>\n",
       "      <th>V32</th>\n",
       "      <th>V33</th>\n",
       "      <th>V34</th>\n",
       "      <th>V35</th>\n",
       "      <th>V36</th>\n",
       "      <th>V37</th>\n",
       "      <th>V38</th>\n",
       "      <th>V39</th>\n",
       "      <th>V40</th>\n",
       "      <th>Target</th>\n",
       "    </tr>\n",
       "  </thead>\n",
       "  <tbody>\n",
       "    <tr>\n",
       "      <th>179</th>\n",
       "      <td>NaN</td>\n",
       "      <td>-3.961403</td>\n",
       "      <td>2.787804</td>\n",
       "      <td>-4.712526</td>\n",
       "      <td>-3.007329</td>\n",
       "      <td>-1.541245</td>\n",
       "      <td>-0.881148</td>\n",
       "      <td>1.476656</td>\n",
       "      <td>0.574700</td>\n",
       "      <td>-1.100884</td>\n",
       "      <td>...</td>\n",
       "      <td>-8.326069</td>\n",
       "      <td>-5.140552</td>\n",
       "      <td>1.121314</td>\n",
       "      <td>-0.305907</td>\n",
       "      <td>5.315007</td>\n",
       "      <td>3.750044</td>\n",
       "      <td>-5.631174</td>\n",
       "      <td>2.372485</td>\n",
       "      <td>2.195956</td>\n",
       "      <td>0</td>\n",
       "    </tr>\n",
       "    <tr>\n",
       "      <th>273</th>\n",
       "      <td>8.340257</td>\n",
       "      <td>NaN</td>\n",
       "      <td>4.701014</td>\n",
       "      <td>-6.210458</td>\n",
       "      <td>-3.452383</td>\n",
       "      <td>1.470407</td>\n",
       "      <td>1.363145</td>\n",
       "      <td>-3.737388</td>\n",
       "      <td>2.563769</td>\n",
       "      <td>0.580317</td>\n",
       "      <td>...</td>\n",
       "      <td>-9.074177</td>\n",
       "      <td>0.302138</td>\n",
       "      <td>-1.629747</td>\n",
       "      <td>1.621417</td>\n",
       "      <td>1.755205</td>\n",
       "      <td>-1.708377</td>\n",
       "      <td>-1.411025</td>\n",
       "      <td>1.290293</td>\n",
       "      <td>0.752315</td>\n",
       "      <td>0</td>\n",
       "    </tr>\n",
       "    <tr>\n",
       "      <th>1245</th>\n",
       "      <td>-2.048681</td>\n",
       "      <td>NaN</td>\n",
       "      <td>-1.623885</td>\n",
       "      <td>-3.324224</td>\n",
       "      <td>0.152256</td>\n",
       "      <td>0.600157</td>\n",
       "      <td>-1.812802</td>\n",
       "      <td>0.852194</td>\n",
       "      <td>-1.522600</td>\n",
       "      <td>0.211071</td>\n",
       "      <td>...</td>\n",
       "      <td>3.264218</td>\n",
       "      <td>2.379064</td>\n",
       "      <td>-2.457084</td>\n",
       "      <td>1.719365</td>\n",
       "      <td>2.537010</td>\n",
       "      <td>1.701780</td>\n",
       "      <td>-1.434535</td>\n",
       "      <td>0.597365</td>\n",
       "      <td>0.739238</td>\n",
       "      <td>0</td>\n",
       "    </tr>\n",
       "    <tr>\n",
       "      <th>1380</th>\n",
       "      <td>-5.418573</td>\n",
       "      <td>NaN</td>\n",
       "      <td>-3.572559</td>\n",
       "      <td>5.968870</td>\n",
       "      <td>-0.205538</td>\n",
       "      <td>-1.109785</td>\n",
       "      <td>-0.932011</td>\n",
       "      <td>3.405683</td>\n",
       "      <td>-1.115739</td>\n",
       "      <td>0.522278</td>\n",
       "      <td>...</td>\n",
       "      <td>4.859093</td>\n",
       "      <td>0.336079</td>\n",
       "      <td>3.993229</td>\n",
       "      <td>-0.140748</td>\n",
       "      <td>-3.344090</td>\n",
       "      <td>0.364732</td>\n",
       "      <td>-1.402871</td>\n",
       "      <td>-1.717696</td>\n",
       "      <td>-2.597330</td>\n",
       "      <td>1</td>\n",
       "    </tr>\n",
       "    <tr>\n",
       "      <th>1912</th>\n",
       "      <td>NaN</td>\n",
       "      <td>-4.396035</td>\n",
       "      <td>2.966584</td>\n",
       "      <td>0.295102</td>\n",
       "      <td>0.731237</td>\n",
       "      <td>-1.994700</td>\n",
       "      <td>-3.058456</td>\n",
       "      <td>1.751438</td>\n",
       "      <td>-0.829251</td>\n",
       "      <td>1.678691</td>\n",
       "      <td>...</td>\n",
       "      <td>3.066807</td>\n",
       "      <td>0.169947</td>\n",
       "      <td>1.215512</td>\n",
       "      <td>-0.164512</td>\n",
       "      <td>6.554772</td>\n",
       "      <td>1.116389</td>\n",
       "      <td>-5.987598</td>\n",
       "      <td>2.751352</td>\n",
       "      <td>-1.781519</td>\n",
       "      <td>0</td>\n",
       "    </tr>\n",
       "    <tr>\n",
       "      <th>...</th>\n",
       "      <td>...</td>\n",
       "      <td>...</td>\n",
       "      <td>...</td>\n",
       "      <td>...</td>\n",
       "      <td>...</td>\n",
       "      <td>...</td>\n",
       "      <td>...</td>\n",
       "      <td>...</td>\n",
       "      <td>...</td>\n",
       "      <td>...</td>\n",
       "      <td>...</td>\n",
       "      <td>...</td>\n",
       "      <td>...</td>\n",
       "      <td>...</td>\n",
       "      <td>...</td>\n",
       "      <td>...</td>\n",
       "      <td>...</td>\n",
       "      <td>...</td>\n",
       "      <td>...</td>\n",
       "      <td>...</td>\n",
       "      <td>...</td>\n",
       "    </tr>\n",
       "    <tr>\n",
       "      <th>36733</th>\n",
       "      <td>-2.377369</td>\n",
       "      <td>NaN</td>\n",
       "      <td>-0.009173</td>\n",
       "      <td>-1.471979</td>\n",
       "      <td>1.295482</td>\n",
       "      <td>0.724894</td>\n",
       "      <td>-1.122797</td>\n",
       "      <td>-3.190475</td>\n",
       "      <td>3.250575</td>\n",
       "      <td>-4.861648</td>\n",
       "      <td>...</td>\n",
       "      <td>-5.093149</td>\n",
       "      <td>0.439355</td>\n",
       "      <td>-3.167241</td>\n",
       "      <td>-2.713266</td>\n",
       "      <td>-0.592845</td>\n",
       "      <td>3.229219</td>\n",
       "      <td>1.315635</td>\n",
       "      <td>2.282838</td>\n",
       "      <td>1.151589</td>\n",
       "      <td>0</td>\n",
       "    </tr>\n",
       "    <tr>\n",
       "      <th>37469</th>\n",
       "      <td>3.318285</td>\n",
       "      <td>NaN</td>\n",
       "      <td>4.764121</td>\n",
       "      <td>0.239790</td>\n",
       "      <td>-2.088341</td>\n",
       "      <td>-1.334183</td>\n",
       "      <td>-1.326659</td>\n",
       "      <td>-1.931971</td>\n",
       "      <td>0.876763</td>\n",
       "      <td>0.348388</td>\n",
       "      <td>...</td>\n",
       "      <td>-2.227943</td>\n",
       "      <td>-1.213178</td>\n",
       "      <td>-0.208744</td>\n",
       "      <td>5.786150</td>\n",
       "      <td>0.718919</td>\n",
       "      <td>-0.701807</td>\n",
       "      <td>-0.134913</td>\n",
       "      <td>0.211544</td>\n",
       "      <td>-1.405950</td>\n",
       "      <td>0</td>\n",
       "    </tr>\n",
       "    <tr>\n",
       "      <th>37815</th>\n",
       "      <td>-0.119181</td>\n",
       "      <td>NaN</td>\n",
       "      <td>3.657612</td>\n",
       "      <td>-1.231802</td>\n",
       "      <td>1.946873</td>\n",
       "      <td>-0.119089</td>\n",
       "      <td>0.652414</td>\n",
       "      <td>-1.490208</td>\n",
       "      <td>-0.033631</td>\n",
       "      <td>-2.556604</td>\n",
       "      <td>...</td>\n",
       "      <td>-4.670353</td>\n",
       "      <td>-0.593916</td>\n",
       "      <td>-1.650592</td>\n",
       "      <td>-1.405071</td>\n",
       "      <td>1.531267</td>\n",
       "      <td>1.079147</td>\n",
       "      <td>2.832949</td>\n",
       "      <td>1.450781</td>\n",
       "      <td>3.232659</td>\n",
       "      <td>0</td>\n",
       "    </tr>\n",
       "    <tr>\n",
       "      <th>38038</th>\n",
       "      <td>NaN</td>\n",
       "      <td>5.469351</td>\n",
       "      <td>3.925862</td>\n",
       "      <td>7.075116</td>\n",
       "      <td>-0.581082</td>\n",
       "      <td>-5.171569</td>\n",
       "      <td>1.415715</td>\n",
       "      <td>1.564463</td>\n",
       "      <td>-1.076731</td>\n",
       "      <td>0.971791</td>\n",
       "      <td>...</td>\n",
       "      <td>7.125148</td>\n",
       "      <td>-1.795369</td>\n",
       "      <td>2.989587</td>\n",
       "      <td>8.169314</td>\n",
       "      <td>-3.717625</td>\n",
       "      <td>-3.768507</td>\n",
       "      <td>2.539606</td>\n",
       "      <td>-1.295166</td>\n",
       "      <td>-6.938777</td>\n",
       "      <td>1</td>\n",
       "    </tr>\n",
       "    <tr>\n",
       "      <th>38479</th>\n",
       "      <td>-3.323643</td>\n",
       "      <td>NaN</td>\n",
       "      <td>-0.550547</td>\n",
       "      <td>-0.289982</td>\n",
       "      <td>-0.723397</td>\n",
       "      <td>1.715816</td>\n",
       "      <td>1.084434</td>\n",
       "      <td>-1.546470</td>\n",
       "      <td>-1.995773</td>\n",
       "      <td>0.764524</td>\n",
       "      <td>...</td>\n",
       "      <td>-2.481974</td>\n",
       "      <td>4.541512</td>\n",
       "      <td>3.076467</td>\n",
       "      <td>0.522451</td>\n",
       "      <td>-1.977151</td>\n",
       "      <td>-0.205159</td>\n",
       "      <td>5.612268</td>\n",
       "      <td>1.354003</td>\n",
       "      <td>-1.709427</td>\n",
       "      <td>0</td>\n",
       "    </tr>\n",
       "  </tbody>\n",
       "</table>\n",
       "<p>85 rows × 41 columns</p>\n",
       "</div>"
      ],
      "text/plain": [
       "             V1        V2        V3        V4        V5        V6        V7  \\\n",
       "179         NaN -3.961403  2.787804 -4.712526 -3.007329 -1.541245 -0.881148   \n",
       "273    8.340257       NaN  4.701014 -6.210458 -3.452383  1.470407  1.363145   \n",
       "1245  -2.048681       NaN -1.623885 -3.324224  0.152256  0.600157 -1.812802   \n",
       "1380  -5.418573       NaN -3.572559  5.968870 -0.205538 -1.109785 -0.932011   \n",
       "1912        NaN -4.396035  2.966584  0.295102  0.731237 -1.994700 -3.058456   \n",
       "...         ...       ...       ...       ...       ...       ...       ...   \n",
       "36733 -2.377369       NaN -0.009173 -1.471979  1.295482  0.724894 -1.122797   \n",
       "37469  3.318285       NaN  4.764121  0.239790 -2.088341 -1.334183 -1.326659   \n",
       "37815 -0.119181       NaN  3.657612 -1.231802  1.946873 -0.119089  0.652414   \n",
       "38038       NaN  5.469351  3.925862  7.075116 -0.581082 -5.171569  1.415715   \n",
       "38479 -3.323643       NaN -0.550547 -0.289982 -0.723397  1.715816  1.084434   \n",
       "\n",
       "             V8        V9       V10  ...       V32       V33       V34  \\\n",
       "179    1.476656  0.574700 -1.100884  ... -8.326069 -5.140552  1.121314   \n",
       "273   -3.737388  2.563769  0.580317  ... -9.074177  0.302138 -1.629747   \n",
       "1245   0.852194 -1.522600  0.211071  ...  3.264218  2.379064 -2.457084   \n",
       "1380   3.405683 -1.115739  0.522278  ...  4.859093  0.336079  3.993229   \n",
       "1912   1.751438 -0.829251  1.678691  ...  3.066807  0.169947  1.215512   \n",
       "...         ...       ...       ...  ...       ...       ...       ...   \n",
       "36733 -3.190475  3.250575 -4.861648  ... -5.093149  0.439355 -3.167241   \n",
       "37469 -1.931971  0.876763  0.348388  ... -2.227943 -1.213178 -0.208744   \n",
       "37815 -1.490208 -0.033631 -2.556604  ... -4.670353 -0.593916 -1.650592   \n",
       "38038  1.564463 -1.076731  0.971791  ...  7.125148 -1.795369  2.989587   \n",
       "38479 -1.546470 -1.995773  0.764524  ... -2.481974  4.541512  3.076467   \n",
       "\n",
       "            V35       V36       V37       V38       V39       V40  Target  \n",
       "179   -0.305907  5.315007  3.750044 -5.631174  2.372485  2.195956       0  \n",
       "273    1.621417  1.755205 -1.708377 -1.411025  1.290293  0.752315       0  \n",
       "1245   1.719365  2.537010  1.701780 -1.434535  0.597365  0.739238       0  \n",
       "1380  -0.140748 -3.344090  0.364732 -1.402871 -1.717696 -2.597330       1  \n",
       "1912  -0.164512  6.554772  1.116389 -5.987598  2.751352 -1.781519       0  \n",
       "...         ...       ...       ...       ...       ...       ...     ...  \n",
       "36733 -2.713266 -0.592845  3.229219  1.315635  2.282838  1.151589       0  \n",
       "37469  5.786150  0.718919 -0.701807 -0.134913  0.211544 -1.405950       0  \n",
       "37815 -1.405071  1.531267  1.079147  2.832949  1.450781  3.232659       0  \n",
       "38038  8.169314 -3.717625 -3.768507  2.539606 -1.295166 -6.938777       1  \n",
       "38479  0.522451 -1.977151 -0.205159  5.612268  1.354003 -1.709427       0  \n",
       "\n",
       "[85 rows x 41 columns]"
      ]
     },
     "execution_count": 11,
     "metadata": {},
     "output_type": "execute_result"
    }
   ],
   "source": [
    "train[train.isnull().any(axis=1)]"
   ]
  },
  {
   "cell_type": "code",
   "execution_count": 12,
   "metadata": {},
   "outputs": [
    {
     "data": {
      "text/html": [
       "<div>\n",
       "<style scoped>\n",
       "    .dataframe tbody tr th:only-of-type {\n",
       "        vertical-align: middle;\n",
       "    }\n",
       "\n",
       "    .dataframe tbody tr th {\n",
       "        vertical-align: top;\n",
       "    }\n",
       "\n",
       "    .dataframe thead th {\n",
       "        text-align: right;\n",
       "    }\n",
       "</style>\n",
       "<table border=\"1\" class=\"dataframe\">\n",
       "  <thead>\n",
       "    <tr style=\"text-align: right;\">\n",
       "      <th></th>\n",
       "      <th>V1</th>\n",
       "      <th>V2</th>\n",
       "      <th>V3</th>\n",
       "      <th>V4</th>\n",
       "      <th>V5</th>\n",
       "      <th>V6</th>\n",
       "      <th>V7</th>\n",
       "      <th>V8</th>\n",
       "      <th>V9</th>\n",
       "      <th>V10</th>\n",
       "      <th>...</th>\n",
       "      <th>V32</th>\n",
       "      <th>V33</th>\n",
       "      <th>V34</th>\n",
       "      <th>V35</th>\n",
       "      <th>V36</th>\n",
       "      <th>V37</th>\n",
       "      <th>V38</th>\n",
       "      <th>V39</th>\n",
       "      <th>V40</th>\n",
       "      <th>Target</th>\n",
       "    </tr>\n",
       "  </thead>\n",
       "  <tbody>\n",
       "    <tr>\n",
       "      <th>1081</th>\n",
       "      <td>NaN</td>\n",
       "      <td>-1.040280</td>\n",
       "      <td>6.532031</td>\n",
       "      <td>-3.000840</td>\n",
       "      <td>-2.063332</td>\n",
       "      <td>-1.666057</td>\n",
       "      <td>-0.337674</td>\n",
       "      <td>-1.132146</td>\n",
       "      <td>-0.684761</td>\n",
       "      <td>2.505069</td>\n",
       "      <td>...</td>\n",
       "      <td>-3.676092</td>\n",
       "      <td>-2.199322</td>\n",
       "      <td>1.401676</td>\n",
       "      <td>3.757154</td>\n",
       "      <td>5.738659</td>\n",
       "      <td>-0.774900</td>\n",
       "      <td>-1.497083</td>\n",
       "      <td>2.532995</td>\n",
       "      <td>-1.179080</td>\n",
       "      <td>0</td>\n",
       "    </tr>\n",
       "    <tr>\n",
       "      <th>1384</th>\n",
       "      <td>3.171300</td>\n",
       "      <td>NaN</td>\n",
       "      <td>-0.899604</td>\n",
       "      <td>-7.687193</td>\n",
       "      <td>-1.844379</td>\n",
       "      <td>2.229502</td>\n",
       "      <td>0.649609</td>\n",
       "      <td>0.680742</td>\n",
       "      <td>-0.079613</td>\n",
       "      <td>-3.926869</td>\n",
       "      <td>...</td>\n",
       "      <td>-8.569958</td>\n",
       "      <td>1.198974</td>\n",
       "      <td>-3.747194</td>\n",
       "      <td>-0.834087</td>\n",
       "      <td>0.364598</td>\n",
       "      <td>3.687177</td>\n",
       "      <td>-1.450631</td>\n",
       "      <td>-0.012682</td>\n",
       "      <td>6.569833</td>\n",
       "      <td>0</td>\n",
       "    </tr>\n",
       "    <tr>\n",
       "      <th>1494</th>\n",
       "      <td>NaN</td>\n",
       "      <td>2.120750</td>\n",
       "      <td>1.027513</td>\n",
       "      <td>1.538515</td>\n",
       "      <td>4.017318</td>\n",
       "      <td>-0.897504</td>\n",
       "      <td>-3.188425</td>\n",
       "      <td>-0.826265</td>\n",
       "      <td>0.036000</td>\n",
       "      <td>-1.225102</td>\n",
       "      <td>...</td>\n",
       "      <td>10.290862</td>\n",
       "      <td>5.641290</td>\n",
       "      <td>-5.354804</td>\n",
       "      <td>2.754283</td>\n",
       "      <td>1.446048</td>\n",
       "      <td>-0.331293</td>\n",
       "      <td>-0.555928</td>\n",
       "      <td>0.980866</td>\n",
       "      <td>-2.225800</td>\n",
       "      <td>0</td>\n",
       "    </tr>\n",
       "    <tr>\n",
       "      <th>1706</th>\n",
       "      <td>NaN</td>\n",
       "      <td>1.481190</td>\n",
       "      <td>2.208128</td>\n",
       "      <td>-2.550029</td>\n",
       "      <td>1.526045</td>\n",
       "      <td>-0.964918</td>\n",
       "      <td>0.559579</td>\n",
       "      <td>3.004337</td>\n",
       "      <td>-3.937734</td>\n",
       "      <td>0.105693</td>\n",
       "      <td>...</td>\n",
       "      <td>5.093845</td>\n",
       "      <td>2.920339</td>\n",
       "      <td>-3.080601</td>\n",
       "      <td>3.750633</td>\n",
       "      <td>2.422388</td>\n",
       "      <td>-0.692277</td>\n",
       "      <td>-0.182557</td>\n",
       "      <td>-0.709241</td>\n",
       "      <td>2.498946</td>\n",
       "      <td>0</td>\n",
       "    </tr>\n",
       "    <tr>\n",
       "      <th>2155</th>\n",
       "      <td>NaN</td>\n",
       "      <td>1.222743</td>\n",
       "      <td>7.023517</td>\n",
       "      <td>-1.227970</td>\n",
       "      <td>-3.385548</td>\n",
       "      <td>-1.500321</td>\n",
       "      <td>-0.375947</td>\n",
       "      <td>-2.898488</td>\n",
       "      <td>3.016750</td>\n",
       "      <td>0.097183</td>\n",
       "      <td>...</td>\n",
       "      <td>-6.401373</td>\n",
       "      <td>-2.539566</td>\n",
       "      <td>-0.427894</td>\n",
       "      <td>4.971210</td>\n",
       "      <td>1.229448</td>\n",
       "      <td>-1.620576</td>\n",
       "      <td>-2.472413</td>\n",
       "      <td>0.692331</td>\n",
       "      <td>-1.427785</td>\n",
       "      <td>0</td>\n",
       "    </tr>\n",
       "    <tr>\n",
       "      <th>3330</th>\n",
       "      <td>NaN</td>\n",
       "      <td>-5.280584</td>\n",
       "      <td>1.695313</td>\n",
       "      <td>-0.787160</td>\n",
       "      <td>-1.872912</td>\n",
       "      <td>-0.469312</td>\n",
       "      <td>-1.970327</td>\n",
       "      <td>-2.099606</td>\n",
       "      <td>-1.573940</td>\n",
       "      <td>4.521625</td>\n",
       "      <td>...</td>\n",
       "      <td>-1.939828</td>\n",
       "      <td>-2.575771</td>\n",
       "      <td>5.279322</td>\n",
       "      <td>1.557176</td>\n",
       "      <td>5.542348</td>\n",
       "      <td>1.058056</td>\n",
       "      <td>1.696663</td>\n",
       "      <td>3.691808</td>\n",
       "      <td>-3.802066</td>\n",
       "      <td>0</td>\n",
       "    </tr>\n",
       "    <tr>\n",
       "      <th>3619</th>\n",
       "      <td>1.255877</td>\n",
       "      <td>NaN</td>\n",
       "      <td>1.123121</td>\n",
       "      <td>0.347719</td>\n",
       "      <td>-0.199314</td>\n",
       "      <td>0.542522</td>\n",
       "      <td>-0.904536</td>\n",
       "      <td>-2.398356</td>\n",
       "      <td>0.228689</td>\n",
       "      <td>0.245489</td>\n",
       "      <td>...</td>\n",
       "      <td>0.851358</td>\n",
       "      <td>1.657839</td>\n",
       "      <td>-1.410919</td>\n",
       "      <td>3.587088</td>\n",
       "      <td>-1.116910</td>\n",
       "      <td>-0.865736</td>\n",
       "      <td>2.766820</td>\n",
       "      <td>-0.368560</td>\n",
       "      <td>-0.864084</td>\n",
       "      <td>0</td>\n",
       "    </tr>\n",
       "    <tr>\n",
       "      <th>3731</th>\n",
       "      <td>NaN</td>\n",
       "      <td>-0.558554</td>\n",
       "      <td>5.315575</td>\n",
       "      <td>1.517019</td>\n",
       "      <td>-2.304035</td>\n",
       "      <td>-1.410233</td>\n",
       "      <td>-1.974341</td>\n",
       "      <td>-3.081827</td>\n",
       "      <td>1.762233</td>\n",
       "      <td>1.134216</td>\n",
       "      <td>...</td>\n",
       "      <td>-3.017435</td>\n",
       "      <td>-0.475546</td>\n",
       "      <td>1.987185</td>\n",
       "      <td>4.541473</td>\n",
       "      <td>1.335494</td>\n",
       "      <td>-0.812582</td>\n",
       "      <td>-0.545365</td>\n",
       "      <td>1.922588</td>\n",
       "      <td>-4.117640</td>\n",
       "      <td>0</td>\n",
       "    </tr>\n",
       "    <tr>\n",
       "      <th>3795</th>\n",
       "      <td>-1.272832</td>\n",
       "      <td>NaN</td>\n",
       "      <td>4.426359</td>\n",
       "      <td>-3.013970</td>\n",
       "      <td>-1.294693</td>\n",
       "      <td>-0.883173</td>\n",
       "      <td>-1.731633</td>\n",
       "      <td>0.098774</td>\n",
       "      <td>-0.991360</td>\n",
       "      <td>2.495756</td>\n",
       "      <td>...</td>\n",
       "      <td>-0.396983</td>\n",
       "      <td>1.190134</td>\n",
       "      <td>0.629071</td>\n",
       "      <td>2.411258</td>\n",
       "      <td>6.166668</td>\n",
       "      <td>-0.140616</td>\n",
       "      <td>-4.208798</td>\n",
       "      <td>2.623088</td>\n",
       "      <td>-1.368893</td>\n",
       "      <td>0</td>\n",
       "    </tr>\n",
       "    <tr>\n",
       "      <th>5541</th>\n",
       "      <td>-2.938927</td>\n",
       "      <td>NaN</td>\n",
       "      <td>2.913242</td>\n",
       "      <td>1.431121</td>\n",
       "      <td>4.003345</td>\n",
       "      <td>-4.743048</td>\n",
       "      <td>-2.450111</td>\n",
       "      <td>3.795883</td>\n",
       "      <td>-0.339877</td>\n",
       "      <td>-2.897700</td>\n",
       "      <td>...</td>\n",
       "      <td>12.077656</td>\n",
       "      <td>0.671770</td>\n",
       "      <td>-6.354040</td>\n",
       "      <td>3.887011</td>\n",
       "      <td>3.420416</td>\n",
       "      <td>0.506994</td>\n",
       "      <td>-5.913055</td>\n",
       "      <td>0.214129</td>\n",
       "      <td>-0.931294</td>\n",
       "      <td>0</td>\n",
       "    </tr>\n",
       "    <tr>\n",
       "      <th>6559</th>\n",
       "      <td>NaN</td>\n",
       "      <td>-2.860596</td>\n",
       "      <td>-2.283068</td>\n",
       "      <td>0.128117</td>\n",
       "      <td>0.049810</td>\n",
       "      <td>-2.288627</td>\n",
       "      <td>-0.376410</td>\n",
       "      <td>3.824872</td>\n",
       "      <td>-3.401724</td>\n",
       "      <td>1.463506</td>\n",
       "      <td>...</td>\n",
       "      <td>6.244320</td>\n",
       "      <td>-1.096070</td>\n",
       "      <td>2.197444</td>\n",
       "      <td>1.939591</td>\n",
       "      <td>2.195444</td>\n",
       "      <td>1.484082</td>\n",
       "      <td>-0.656709</td>\n",
       "      <td>0.851431</td>\n",
       "      <td>-2.465264</td>\n",
       "      <td>0</td>\n",
       "    </tr>\n",
       "    <tr>\n",
       "      <th>6574</th>\n",
       "      <td>5.896134</td>\n",
       "      <td>NaN</td>\n",
       "      <td>7.342806</td>\n",
       "      <td>-1.052112</td>\n",
       "      <td>-1.393952</td>\n",
       "      <td>-0.410402</td>\n",
       "      <td>0.392391</td>\n",
       "      <td>-6.141263</td>\n",
       "      <td>2.100145</td>\n",
       "      <td>1.897655</td>\n",
       "      <td>...</td>\n",
       "      <td>-5.652135</td>\n",
       "      <td>-1.973205</td>\n",
       "      <td>0.275744</td>\n",
       "      <td>3.894656</td>\n",
       "      <td>2.108591</td>\n",
       "      <td>-2.803778</td>\n",
       "      <td>3.971349</td>\n",
       "      <td>2.233942</td>\n",
       "      <td>-2.542753</td>\n",
       "      <td>0</td>\n",
       "    </tr>\n",
       "    <tr>\n",
       "      <th>7300</th>\n",
       "      <td>-2.192428</td>\n",
       "      <td>NaN</td>\n",
       "      <td>1.799980</td>\n",
       "      <td>-0.296741</td>\n",
       "      <td>-1.701130</td>\n",
       "      <td>-4.964358</td>\n",
       "      <td>-1.197494</td>\n",
       "      <td>7.579144</td>\n",
       "      <td>-1.248340</td>\n",
       "      <td>-0.543423</td>\n",
       "      <td>...</td>\n",
       "      <td>-0.549422</td>\n",
       "      <td>-7.418782</td>\n",
       "      <td>3.047023</td>\n",
       "      <td>-0.827550</td>\n",
       "      <td>6.163518</td>\n",
       "      <td>3.683869</td>\n",
       "      <td>-11.105694</td>\n",
       "      <td>0.926555</td>\n",
       "      <td>1.136881</td>\n",
       "      <td>0</td>\n",
       "    </tr>\n",
       "    <tr>\n",
       "      <th>7549</th>\n",
       "      <td>NaN</td>\n",
       "      <td>2.698128</td>\n",
       "      <td>1.196472</td>\n",
       "      <td>9.761630</td>\n",
       "      <td>-2.075340</td>\n",
       "      <td>-1.819369</td>\n",
       "      <td>-2.504025</td>\n",
       "      <td>-4.945693</td>\n",
       "      <td>4.073329</td>\n",
       "      <td>-0.873303</td>\n",
       "      <td>...</td>\n",
       "      <td>0.785320</td>\n",
       "      <td>-0.007459</td>\n",
       "      <td>3.575138</td>\n",
       "      <td>6.474568</td>\n",
       "      <td>-7.834354</td>\n",
       "      <td>-1.393722</td>\n",
       "      <td>4.788115</td>\n",
       "      <td>-0.373302</td>\n",
       "      <td>-8.983563</td>\n",
       "      <td>0</td>\n",
       "    </tr>\n",
       "    <tr>\n",
       "      <th>7901</th>\n",
       "      <td>NaN</td>\n",
       "      <td>9.135603</td>\n",
       "      <td>-1.153640</td>\n",
       "      <td>12.091012</td>\n",
       "      <td>0.504192</td>\n",
       "      <td>-1.690108</td>\n",
       "      <td>0.317179</td>\n",
       "      <td>-4.956006</td>\n",
       "      <td>6.375380</td>\n",
       "      <td>-4.166719</td>\n",
       "      <td>...</td>\n",
       "      <td>0.165017</td>\n",
       "      <td>-3.455022</td>\n",
       "      <td>1.216086</td>\n",
       "      <td>1.704576</td>\n",
       "      <td>-12.429063</td>\n",
       "      <td>-2.025922</td>\n",
       "      <td>7.129969</td>\n",
       "      <td>-2.868385</td>\n",
       "      <td>-5.947649</td>\n",
       "      <td>0</td>\n",
       "    </tr>\n",
       "    <tr>\n",
       "      <th>8122</th>\n",
       "      <td>NaN</td>\n",
       "      <td>3.983783</td>\n",
       "      <td>0.524783</td>\n",
       "      <td>-4.776552</td>\n",
       "      <td>2.590121</td>\n",
       "      <td>1.040410</td>\n",
       "      <td>3.097642</td>\n",
       "      <td>-1.744755</td>\n",
       "      <td>-0.269377</td>\n",
       "      <td>0.410768</td>\n",
       "      <td>...</td>\n",
       "      <td>-4.134022</td>\n",
       "      <td>-5.444258</td>\n",
       "      <td>-1.925177</td>\n",
       "      <td>-5.736453</td>\n",
       "      <td>4.155637</td>\n",
       "      <td>0.047600</td>\n",
       "      <td>3.864513</td>\n",
       "      <td>1.224684</td>\n",
       "      <td>4.916014</td>\n",
       "      <td>0</td>\n",
       "    </tr>\n",
       "    <tr>\n",
       "      <th>8367</th>\n",
       "      <td>5.034513</td>\n",
       "      <td>NaN</td>\n",
       "      <td>4.450708</td>\n",
       "      <td>-6.077425</td>\n",
       "      <td>0.445417</td>\n",
       "      <td>2.491588</td>\n",
       "      <td>1.958447</td>\n",
       "      <td>-5.311945</td>\n",
       "      <td>-1.397204</td>\n",
       "      <td>2.755499</td>\n",
       "      <td>...</td>\n",
       "      <td>-5.133693</td>\n",
       "      <td>1.139969</td>\n",
       "      <td>-1.421471</td>\n",
       "      <td>0.822456</td>\n",
       "      <td>4.099736</td>\n",
       "      <td>-2.152178</td>\n",
       "      <td>7.063377</td>\n",
       "      <td>2.377923</td>\n",
       "      <td>1.906096</td>\n",
       "      <td>0</td>\n",
       "    </tr>\n",
       "    <tr>\n",
       "      <th>9168</th>\n",
       "      <td>NaN</td>\n",
       "      <td>-1.834773</td>\n",
       "      <td>2.108034</td>\n",
       "      <td>-0.048444</td>\n",
       "      <td>-1.445695</td>\n",
       "      <td>-1.036887</td>\n",
       "      <td>-2.045835</td>\n",
       "      <td>-1.560457</td>\n",
       "      <td>1.501784</td>\n",
       "      <td>-0.526727</td>\n",
       "      <td>...</td>\n",
       "      <td>-3.313729</td>\n",
       "      <td>0.168714</td>\n",
       "      <td>2.058775</td>\n",
       "      <td>0.645596</td>\n",
       "      <td>2.096953</td>\n",
       "      <td>1.899333</td>\n",
       "      <td>-1.759928</td>\n",
       "      <td>3.347301</td>\n",
       "      <td>-3.445555</td>\n",
       "      <td>0</td>\n",
       "    </tr>\n",
       "  </tbody>\n",
       "</table>\n",
       "<p>18 rows × 41 columns</p>\n",
       "</div>"
      ],
      "text/plain": [
       "            V1        V2        V3         V4        V5        V6        V7  \\\n",
       "1081       NaN -1.040280  6.532031  -3.000840 -2.063332 -1.666057 -0.337674   \n",
       "1384  3.171300       NaN -0.899604  -7.687193 -1.844379  2.229502  0.649609   \n",
       "1494       NaN  2.120750  1.027513   1.538515  4.017318 -0.897504 -3.188425   \n",
       "1706       NaN  1.481190  2.208128  -2.550029  1.526045 -0.964918  0.559579   \n",
       "2155       NaN  1.222743  7.023517  -1.227970 -3.385548 -1.500321 -0.375947   \n",
       "3330       NaN -5.280584  1.695313  -0.787160 -1.872912 -0.469312 -1.970327   \n",
       "3619  1.255877       NaN  1.123121   0.347719 -0.199314  0.542522 -0.904536   \n",
       "3731       NaN -0.558554  5.315575   1.517019 -2.304035 -1.410233 -1.974341   \n",
       "3795 -1.272832       NaN  4.426359  -3.013970 -1.294693 -0.883173 -1.731633   \n",
       "5541 -2.938927       NaN  2.913242   1.431121  4.003345 -4.743048 -2.450111   \n",
       "6559       NaN -2.860596 -2.283068   0.128117  0.049810 -2.288627 -0.376410   \n",
       "6574  5.896134       NaN  7.342806  -1.052112 -1.393952 -0.410402  0.392391   \n",
       "7300 -2.192428       NaN  1.799980  -0.296741 -1.701130 -4.964358 -1.197494   \n",
       "7549       NaN  2.698128  1.196472   9.761630 -2.075340 -1.819369 -2.504025   \n",
       "7901       NaN  9.135603 -1.153640  12.091012  0.504192 -1.690108  0.317179   \n",
       "8122       NaN  3.983783  0.524783  -4.776552  2.590121  1.040410  3.097642   \n",
       "8367  5.034513       NaN  4.450708  -6.077425  0.445417  2.491588  1.958447   \n",
       "9168       NaN -1.834773  2.108034  -0.048444 -1.445695 -1.036887 -2.045835   \n",
       "\n",
       "            V8        V9       V10  ...        V32       V33       V34  \\\n",
       "1081 -1.132146 -0.684761  2.505069  ...  -3.676092 -2.199322  1.401676   \n",
       "1384  0.680742 -0.079613 -3.926869  ...  -8.569958  1.198974 -3.747194   \n",
       "1494 -0.826265  0.036000 -1.225102  ...  10.290862  5.641290 -5.354804   \n",
       "1706  3.004337 -3.937734  0.105693  ...   5.093845  2.920339 -3.080601   \n",
       "2155 -2.898488  3.016750  0.097183  ...  -6.401373 -2.539566 -0.427894   \n",
       "3330 -2.099606 -1.573940  4.521625  ...  -1.939828 -2.575771  5.279322   \n",
       "3619 -2.398356  0.228689  0.245489  ...   0.851358  1.657839 -1.410919   \n",
       "3731 -3.081827  1.762233  1.134216  ...  -3.017435 -0.475546  1.987185   \n",
       "3795  0.098774 -0.991360  2.495756  ...  -0.396983  1.190134  0.629071   \n",
       "5541  3.795883 -0.339877 -2.897700  ...  12.077656  0.671770 -6.354040   \n",
       "6559  3.824872 -3.401724  1.463506  ...   6.244320 -1.096070  2.197444   \n",
       "6574 -6.141263  2.100145  1.897655  ...  -5.652135 -1.973205  0.275744   \n",
       "7300  7.579144 -1.248340 -0.543423  ...  -0.549422 -7.418782  3.047023   \n",
       "7549 -4.945693  4.073329 -0.873303  ...   0.785320 -0.007459  3.575138   \n",
       "7901 -4.956006  6.375380 -4.166719  ...   0.165017 -3.455022  1.216086   \n",
       "8122 -1.744755 -0.269377  0.410768  ...  -4.134022 -5.444258 -1.925177   \n",
       "8367 -5.311945 -1.397204  2.755499  ...  -5.133693  1.139969 -1.421471   \n",
       "9168 -1.560457  1.501784 -0.526727  ...  -3.313729  0.168714  2.058775   \n",
       "\n",
       "           V35        V36       V37        V38       V39       V40  Target  \n",
       "1081  3.757154   5.738659 -0.774900  -1.497083  2.532995 -1.179080       0  \n",
       "1384 -0.834087   0.364598  3.687177  -1.450631 -0.012682  6.569833       0  \n",
       "1494  2.754283   1.446048 -0.331293  -0.555928  0.980866 -2.225800       0  \n",
       "1706  3.750633   2.422388 -0.692277  -0.182557 -0.709241  2.498946       0  \n",
       "2155  4.971210   1.229448 -1.620576  -2.472413  0.692331 -1.427785       0  \n",
       "3330  1.557176   5.542348  1.058056   1.696663  3.691808 -3.802066       0  \n",
       "3619  3.587088  -1.116910 -0.865736   2.766820 -0.368560 -0.864084       0  \n",
       "3731  4.541473   1.335494 -0.812582  -0.545365  1.922588 -4.117640       0  \n",
       "3795  2.411258   6.166668 -0.140616  -4.208798  2.623088 -1.368893       0  \n",
       "5541  3.887011   3.420416  0.506994  -5.913055  0.214129 -0.931294       0  \n",
       "6559  1.939591   2.195444  1.484082  -0.656709  0.851431 -2.465264       0  \n",
       "6574  3.894656   2.108591 -2.803778   3.971349  2.233942 -2.542753       0  \n",
       "7300 -0.827550   6.163518  3.683869 -11.105694  0.926555  1.136881       0  \n",
       "7549  6.474568  -7.834354 -1.393722   4.788115 -0.373302 -8.983563       0  \n",
       "7901  1.704576 -12.429063 -2.025922   7.129969 -2.868385 -5.947649       0  \n",
       "8122 -5.736453   4.155637  0.047600   3.864513  1.224684  4.916014       0  \n",
       "8367  0.822456   4.099736 -2.152178   7.063377  2.377923  1.906096       0  \n",
       "9168  0.645596   2.096953  1.899333  -1.759928  3.347301 -3.445555       0  \n",
       "\n",
       "[18 rows x 41 columns]"
      ]
     },
     "execution_count": 12,
     "metadata": {},
     "output_type": "execute_result"
    }
   ],
   "source": [
    "test[test.isnull().any(axis=1)]"
   ]
  },
  {
   "cell_type": "markdown",
   "metadata": {},
   "source": [
    "There are 85 data points in the train set at 18 in the test set that contain null values. The cipher may not have worked properly to encode the data. We will have to deal with these missing values later."
   ]
  },
  {
   "cell_type": "code",
   "execution_count": 13,
   "metadata": {},
   "outputs": [
    {
     "name": "stdout",
     "output_type": "stream",
     "text": [
      "<class 'pandas.core.frame.DataFrame'>\n",
      "RangeIndex: 40000 entries, 0 to 39999\n",
      "Data columns (total 41 columns):\n",
      " #   Column  Non-Null Count  Dtype  \n",
      "---  ------  --------------  -----  \n",
      " 0   V1      39954 non-null  float64\n",
      " 1   V2      39961 non-null  float64\n",
      " 2   V3      40000 non-null  float64\n",
      " 3   V4      40000 non-null  float64\n",
      " 4   V5      40000 non-null  float64\n",
      " 5   V6      40000 non-null  float64\n",
      " 6   V7      40000 non-null  float64\n",
      " 7   V8      40000 non-null  float64\n",
      " 8   V9      40000 non-null  float64\n",
      " 9   V10     40000 non-null  float64\n",
      " 10  V11     40000 non-null  float64\n",
      " 11  V12     40000 non-null  float64\n",
      " 12  V13     40000 non-null  float64\n",
      " 13  V14     40000 non-null  float64\n",
      " 14  V15     40000 non-null  float64\n",
      " 15  V16     40000 non-null  float64\n",
      " 16  V17     40000 non-null  float64\n",
      " 17  V18     40000 non-null  float64\n",
      " 18  V19     40000 non-null  float64\n",
      " 19  V20     40000 non-null  float64\n",
      " 20  V21     40000 non-null  float64\n",
      " 21  V22     40000 non-null  float64\n",
      " 22  V23     40000 non-null  float64\n",
      " 23  V24     40000 non-null  float64\n",
      " 24  V25     40000 non-null  float64\n",
      " 25  V26     40000 non-null  float64\n",
      " 26  V27     40000 non-null  float64\n",
      " 27  V28     40000 non-null  float64\n",
      " 28  V29     40000 non-null  float64\n",
      " 29  V30     40000 non-null  float64\n",
      " 30  V31     40000 non-null  float64\n",
      " 31  V32     40000 non-null  float64\n",
      " 32  V33     40000 non-null  float64\n",
      " 33  V34     40000 non-null  float64\n",
      " 34  V35     40000 non-null  float64\n",
      " 35  V36     40000 non-null  float64\n",
      " 36  V37     40000 non-null  float64\n",
      " 37  V38     40000 non-null  float64\n",
      " 38  V39     40000 non-null  float64\n",
      " 39  V40     40000 non-null  float64\n",
      " 40  Target  40000 non-null  int64  \n",
      "dtypes: float64(40), int64(1)\n",
      "memory usage: 12.5 MB\n",
      "None\n"
     ]
    }
   ],
   "source": [
    "print(train.info())"
   ]
  },
  {
   "cell_type": "code",
   "execution_count": 14,
   "metadata": {},
   "outputs": [
    {
     "name": "stdout",
     "output_type": "stream",
     "text": [
      "<class 'pandas.core.frame.DataFrame'>\n",
      "RangeIndex: 10000 entries, 0 to 9999\n",
      "Data columns (total 41 columns):\n",
      " #   Column  Non-Null Count  Dtype  \n",
      "---  ------  --------------  -----  \n",
      " 0   V1      9989 non-null   float64\n",
      " 1   V2      9993 non-null   float64\n",
      " 2   V3      10000 non-null  float64\n",
      " 3   V4      10000 non-null  float64\n",
      " 4   V5      10000 non-null  float64\n",
      " 5   V6      10000 non-null  float64\n",
      " 6   V7      10000 non-null  float64\n",
      " 7   V8      10000 non-null  float64\n",
      " 8   V9      10000 non-null  float64\n",
      " 9   V10     10000 non-null  float64\n",
      " 10  V11     10000 non-null  float64\n",
      " 11  V12     10000 non-null  float64\n",
      " 12  V13     10000 non-null  float64\n",
      " 13  V14     10000 non-null  float64\n",
      " 14  V15     10000 non-null  float64\n",
      " 15  V16     10000 non-null  float64\n",
      " 16  V17     10000 non-null  float64\n",
      " 17  V18     10000 non-null  float64\n",
      " 18  V19     10000 non-null  float64\n",
      " 19  V20     10000 non-null  float64\n",
      " 20  V21     10000 non-null  float64\n",
      " 21  V22     10000 non-null  float64\n",
      " 22  V23     10000 non-null  float64\n",
      " 23  V24     10000 non-null  float64\n",
      " 24  V25     10000 non-null  float64\n",
      " 25  V26     10000 non-null  float64\n",
      " 26  V27     10000 non-null  float64\n",
      " 27  V28     10000 non-null  float64\n",
      " 28  V29     10000 non-null  float64\n",
      " 29  V30     10000 non-null  float64\n",
      " 30  V31     10000 non-null  float64\n",
      " 31  V32     10000 non-null  float64\n",
      " 32  V33     10000 non-null  float64\n",
      " 33  V34     10000 non-null  float64\n",
      " 34  V35     10000 non-null  float64\n",
      " 35  V36     10000 non-null  float64\n",
      " 36  V37     10000 non-null  float64\n",
      " 37  V38     10000 non-null  float64\n",
      " 38  V39     10000 non-null  float64\n",
      " 39  V40     10000 non-null  float64\n",
      " 40  Target  10000 non-null  int64  \n",
      "dtypes: float64(40), int64(1)\n",
      "memory usage: 3.1 MB\n",
      "None\n"
     ]
    }
   ],
   "source": [
    "print(test.info())"
   ]
  },
  {
   "cell_type": "markdown",
   "metadata": {},
   "source": [
    "All values are either an integer or float so no tranformations will need to be done in this regard"
   ]
  },
  {
   "cell_type": "markdown",
   "metadata": {},
   "source": [
    "#### Univariate and Bivariate Data Analysis"
   ]
  },
  {
   "cell_type": "code",
   "execution_count": 15,
   "metadata": {},
   "outputs": [
    {
     "data": {
      "image/png": "[encoded data removed]",
      "text/plain": [
       "<Figure size 432x288 with 1 Axes>"
      ]
     },
     "metadata": {
      "needs_background": "light"
     },
     "output_type": "display_data"
    }
   ],
   "source": [
    "sns.histplot(x='V1',data=train,hue='Target');"
   ]
  },
  {
   "cell_type": "code",
   "execution_count": 16,
   "metadata": {},
   "outputs": [
    {
     "data": {
      "image/png": "[encoded data removed]",
      "text/plain": [
       "<Figure size 432x288 with 1 Axes>"
      ]
     },
     "metadata": {
      "needs_background": "light"
     },
     "output_type": "display_data"
    }
   ],
   "source": [
    "sns.histplot(x='V2',data=train,hue='Target');"
   ]
  },
  {
   "cell_type": "code",
   "execution_count": 17,
   "metadata": {},
   "outputs": [
    {
     "data": {
      "image/png": "[encoded data removed]",
      "text/plain": [
       "<Figure size 432x288 with 1 Axes>"
      ]
     },
     "metadata": {
      "needs_background": "light"
     },
     "output_type": "display_data"
    }
   ],
   "source": [
    "sns.histplot(x='V3',data=train,hue='Target');"
   ]
  },
  {
   "cell_type": "code",
   "execution_count": 18,
   "metadata": {},
   "outputs": [
    {
     "data": {
      "image/png": "[encoded data removed]",
      "text/plain": [
       "<Figure size 432x288 with 1 Axes>"
      ]
     },
     "metadata": {
      "needs_background": "light"
     },
     "output_type": "display_data"
    }
   ],
   "source": [
    "sns.histplot(x='V4',data=train,hue='Target');"
   ]
  },
  {
   "cell_type": "code",
   "execution_count": 19,
   "metadata": {},
   "outputs": [
    {
     "data": {
      "image/png": "[encoded data removed]",
      "text/plain": [
       "<Figure size 432x288 with 1 Axes>"
      ]
     },
     "metadata": {
      "needs_background": "light"
     },
     "output_type": "display_data"
    }
   ],
   "source": [
    "sns.histplot(x='V5',data=train,hue='Target');"
   ]
  },
  {
   "cell_type": "code",
   "execution_count": 20,
   "metadata": {},
   "outputs": [
    {
     "data": {
      "image/png": "[encoded data removed]",
      "text/plain": [
       "<Figure size 432x288 with 1 Axes>"
      ]
     },
     "metadata": {
      "needs_background": "light"
     },
     "output_type": "display_data"
    }
   ],
   "source": [
    "sns.histplot(x='V6',data=train,hue='Target');"
   ]
  },
  {
   "cell_type": "code",
   "execution_count": 21,
   "metadata": {},
   "outputs": [
    {
     "data": {
      "image/png": "[encoded data removed]",
      "text/plain": [
       "<Figure size 432x288 with 1 Axes>"
      ]
     },
     "metadata": {
      "needs_background": "light"
     },
     "output_type": "display_data"
    }
   ],
   "source": [
    "sns.histplot(x='V7',data=train,hue='Target');"
   ]
  },
  {
   "cell_type": "code",
   "execution_count": 22,
   "metadata": {},
   "outputs": [
    {
     "data": {
      "image/png": "[encoded data removed]",
      "text/plain": [
       "<Figure size 432x288 with 1 Axes>"
      ]
     },
     "metadata": {
      "needs_background": "light"
     },
     "output_type": "display_data"
    }
   ],
   "source": [
    "sns.histplot(x='V8',data=train,hue='Target');"
   ]
  },
  {
   "cell_type": "code",
   "execution_count": 23,
   "metadata": {},
   "outputs": [
    {
     "data": {
      "image/png": "[encoded data removed]",
      "text/plain": [
       "<Figure size 432x288 with 1 Axes>"
      ]
     },
     "metadata": {
      "needs_background": "light"
     },
     "output_type": "display_data"
    }
   ],
   "source": [
    "sns.histplot(x='V9',data=train,hue='Target');"
   ]
  },
  {
   "cell_type": "code",
   "execution_count": 24,
   "metadata": {},
   "outputs": [
    {
     "data": {
      "image/png": "[encoded data removed]",
      "text/plain": [
       "<Figure size 432x288 with 1 Axes>"
      ]
     },
     "metadata": {
      "needs_background": "light"
     },
     "output_type": "display_data"
    }
   ],
   "source": [
    "sns.histplot(x='V10',data=train,hue='Target');"
   ]
  },
  {
   "cell_type": "code",
   "execution_count": 25,
   "metadata": {},
   "outputs": [
    {
     "data": {
      "image/png": "[encoded data removed]",
      "text/plain": [
       "<Figure size 432x288 with 1 Axes>"
      ]
     },
     "metadata": {
      "needs_background": "light"
     },
     "output_type": "display_data"
    }
   ],
   "source": [
    "sns.histplot(x='V11',data=train,hue='Target');"
   ]
  },
  {
   "cell_type": "code",
   "execution_count": 26,
   "metadata": {},
   "outputs": [
    {
     "data": {
      "image/png": "[encoded data removed]",
      "text/plain": [
       "<Figure size 432x288 with 1 Axes>"
      ]
     },
     "metadata": {
      "needs_background": "light"
     },
     "output_type": "display_data"
    }
   ],
   "source": [
    "sns.histplot(x='V12',data=train,hue='Target');"
   ]
  },
  {
   "cell_type": "code",
   "execution_count": 27,
   "metadata": {},
   "outputs": [
    {
     "data": {
      "image/png": "[encoded data removed]",
      "text/plain": [
       "<Figure size 432x288 with 1 Axes>"
      ]
     },
     "metadata": {
      "needs_background": "light"
     },
     "output_type": "display_data"
    }
   ],
   "source": [
    "sns.histplot(x='V13',data=train,hue='Target');"
   ]
  },
  {
   "cell_type": "code",
   "execution_count": 28,
   "metadata": {},
   "outputs": [
    {
     "data": {
      "image/png": "[encoded data removed]",
      "text/plain": [
       "<Figure size 432x288 with 1 Axes>"
      ]
     },
     "metadata": {
      "needs_background": "light"
     },
     "output_type": "display_data"
    }
   ],
   "source": [
    "sns.histplot(x='V14',data=train,hue='Target');"
   ]
  },
  {
   "cell_type": "code",
   "execution_count": 29,
   "metadata": {},
   "outputs": [
    {
     "data": {
      "image/png": "[encoded data removed]",
      "text/plain": [
       "<Figure size 432x288 with 1 Axes>"
      ]
     },
     "metadata": {
      "needs_background": "light"
     },
     "output_type": "display_data"
    }
   ],
   "source": [
    "sns.histplot(x='V15',data=train,hue='Target');"
   ]
  },
  {
   "cell_type": "code",
   "execution_count": 30,
   "metadata": {},
   "outputs": [
    {
     "data": {
      "image/png": "[encoded data removed]",
      "text/plain": [
       "<Figure size 432x288 with 1 Axes>"
      ]
     },
     "metadata": {
      "needs_background": "light"
     },
     "output_type": "display_data"
    }
   ],
   "source": [
    "sns.histplot(x='V16',data=train,hue='Target');"
   ]
  },
  {
   "cell_type": "code",
   "execution_count": 31,
   "metadata": {},
   "outputs": [
    {
     "data": {
      "image/png": "[encoded data removed]",
      "text/plain": [
       "<Figure size 432x288 with 1 Axes>"
      ]
     },
     "metadata": {
      "needs_background": "light"
     },
     "output_type": "display_data"
    }
   ],
   "source": [
    "sns.histplot(x='V17',data=train,hue='Target');"
   ]
  },
  {
   "cell_type": "code",
   "execution_count": 32,
   "metadata": {},
   "outputs": [
    {
     "data": {
      "image/png": "[encoded data removed]",
      "text/plain": [
       "<Figure size 432x288 with 1 Axes>"
      ]
     },
     "metadata": {
      "needs_background": "light"
     },
     "output_type": "display_data"
    }
   ],
   "source": [
    "sns.histplot(x='V18',data=train,hue='Target');"
   ]
  },
  {
   "cell_type": "code",
   "execution_count": 33,
   "metadata": {},
   "outputs": [
    {
     "data": {
      "image/png": "[encoded data removed]",
      "text/plain": [
       "<Figure size 432x288 with 1 Axes>"
      ]
     },
     "metadata": {
      "needs_background": "light"
     },
     "output_type": "display_data"
    }
   ],
   "source": [
    "sns.histplot(x='V19',data=train,hue='Target');"
   ]
  },
  {
   "cell_type": "code",
   "execution_count": 34,
   "metadata": {},
   "outputs": [
    {
     "data": {
      "image/png": "[encoded data removed]",
      "text/plain": [
       "<Figure size 432x288 with 1 Axes>"
      ]
     },
     "metadata": {
      "needs_background": "light"
     },
     "output_type": "display_data"
    }
   ],
   "source": [
    "sns.histplot(x='V20',data=train,hue='Target');"
   ]
  },
  {
   "cell_type": "code",
   "execution_count": 35,
   "metadata": {},
   "outputs": [
    {
     "data": {
      "image/png": "[encoded data removed]",
      "text/plain": [
       "<Figure size 432x288 with 1 Axes>"
      ]
     },
     "metadata": {
      "needs_background": "light"
     },
     "output_type": "display_data"
    }
   ],
   "source": [
    "sns.countplot(x='Target',data=train);"
   ]
  },
  {
   "cell_type": "markdown",
   "metadata": {},
   "source": [
    "##### Observations\n",
    "* Looking through the data, all instances of the independent variables seem to be normally distributed. As such no transformation needs to be done about the data. \n",
    "\n",
    "* There is a large disparency between the incidence of data that has target=0 and the incedence that has target=1.\n",
    "\n",
    "* We can also see from the graphs which variables have different values based on the result of the target. For the vairables V1, V3, V4, V5, V7, V8, V11, V13, V14, V15, V16, V18, V20 there seems to be a difference between the mean value of the distribution when the target variable is 0 versus 1. These are likely to have some importance to the overall model. \n",
    "\n"
   ]
  },
  {
   "cell_type": "markdown",
   "metadata": {
    "id": "knk0w9XH4jao"
   },
   "source": [
    "## Data Pre-processing"
   ]
  },
  {
   "cell_type": "markdown",
   "metadata": {
    "id": "2JbJc1bX4jao"
   },
   "source": [
    "##### Missing Value Treatment\n",
    "\n",
    "To deal with the missing values identified above we will replace the NA's with the mean of the column."
   ]
  },
  {
   "cell_type": "code",
   "execution_count": 36,
   "metadata": {},
   "outputs": [
    {
     "data": {
      "image/png": "[encoded data removed]",
      "text/plain": [
       "<Figure size 432x288 with 1 Axes>"
      ]
     },
     "metadata": {
      "needs_background": "light"
     },
     "output_type": "display_data"
    }
   ],
   "source": [
    "#Replacing all NAs with the mean in both the train and the test dataset\n",
    "train['V1']=train['V1'].replace(np.nan, train.V1.mean())\n",
    "train['V2']=train['V2'].replace(np.nan, train.V2.mean())\n",
    "\n",
    "test['V1']=test['V1'].replace(np.nan, test.V1.mean())\n",
    "test['V2']=test['V2'].replace(np.nan, test.V2.mean())\n",
    "\n",
    "# Reviewing the distribution of V1 \n",
    "sns.histplot(x='V1',data=train,hue='Target');"
   ]
  },
  {
   "cell_type": "code",
   "execution_count": 37,
   "metadata": {},
   "outputs": [
    {
     "data": {
      "image/png": "[encoded data removed]",
      "text/plain": [
       "<Figure size 432x288 with 1 Axes>"
      ]
     },
     "metadata": {
      "needs_background": "light"
     },
     "output_type": "display_data"
    }
   ],
   "source": [
    "# Reviewing the distribution of V2 \n",
    "sns.histplot(x='V2',data=train,hue='Target');"
   ]
  },
  {
   "cell_type": "markdown",
   "metadata": {},
   "source": []
  },
  {
   "cell_type": "markdown",
   "metadata": {
    "id": "ONL1sM1n4jap"
   },
   "source": [
    "## Model evaluation criterion\n",
    "\n",
    "### 3 types of cost are associated with the provided problem\n",
    "1. Replacement cost - False Negatives - Predicting no failure, while there will be a failure\n",
    "2. Inspection cost - False Positives - Predicting failure, while there is no failure \n",
    "3. Repair cost - True Positives - Predicting failure correctly\n",
    "\n",
    "### How to reduce the overall cost?\n",
    "* We need to create a customized metric, that can help to bring down the overall cost.\n",
    "* The cost associated with any model = TP * 15000 + FP * 5000 + FN * 40000\n",
    "* And the minimum possible cost will be when, the model will be able to identify all failures, in that case, the cost will be (TP + FN) * 15000\n",
    "* So, we will try to maximize `Minimum cost/Cost associated with model`"
   ]
  },
  {
   "cell_type": "markdown",
   "metadata": {
    "id": "djQTqGKU4jap"
   },
   "source": [
    "**Let's create two functions to calculate different metrics and confusion matrix, so that we don't have to use the same code repeatedly for each model.**"
   ]
  },
  {
   "cell_type": "code",
   "execution_count": 38,
   "metadata": {
    "id": "bIekBxwp4jaq"
   },
   "outputs": [],
   "source": [
    "# defining a function to compute different metrics to check performance of a classification model built using sklearn\n",
    "def model_performance_classification_sklearn(model, predictors, target):\n",
    "    \"\"\"\n",
    "    Function to compute different metrics to check classification model performance\n",
    "\n",
    "    model: classifier\n",
    "    predictors: independent variables\n",
    "    target: dependent variable\n",
    "    \"\"\"\n",
    "\n",
    "    TP = metrics.confusion_matrix(target, model.predict(predictors))[1, 1]\n",
    "    FP = metrics.confusion_matrix(target, model.predict(predictors))[0, 1]\n",
    "    FN = metrics.confusion_matrix(target, model.predict(predictors))[1, 0]\n",
    "    Cost = TP * 15 + FP * 5 + FN * 40  # maintenance cost by using model\n",
    "    Min_Cost = (TP + FN) * 15  # minimum possible maintenance cost = number of actual positives\n",
    "    Percent = Min_Cost / Cost  # ratio of minimum possible maintenance cost and maintenance cost by model\n",
    "\n",
    "    # predicting using the independent variables\n",
    "    pred = model.predict(predictors)\n",
    "\n",
    "    acc = accuracy_score(target, pred)  # to compute Accuracy\n",
    "    recall = recall_score(target, pred)  # to compute Recall\n",
    "    precision = precision_score(target, pred)  # to compute Precision\n",
    "    f1 = f1_score(target, pred)  # to compute F1-score\n",
    "\n",
    "    # creating a dataframe of metrics\n",
    "    df_perf = pd.DataFrame(\n",
    "        {\n",
    "            \"Accuracy\": acc,\n",
    "            \"Recall\": recall,\n",
    "            \"Precision\": precision,\n",
    "            \"F1\": f1,\n",
    "            \"Minimum_Vs_Model_cost\": Percent,\n",
    "        },\n",
    "        index=[0],\n",
    "    )\n",
    "\n",
    "    return df_perf"
   ]
  },
  {
   "cell_type": "code",
   "execution_count": 39,
   "metadata": {
    "id": "8LXyI50s4jar"
   },
   "outputs": [],
   "source": [
    "def confusion_matrix_sklearn(model, predictors, target):\n",
    "    \"\"\"\n",
    "    To plot the confusion_matrix with percentages\n",
    "\n",
    "    model: classifier\n",
    "    predictors: independent variables\n",
    "    target: dependent variable\n",
    "    \"\"\"\n",
    "    y_pred = model.predict(predictors)\n",
    "    cm = metrics.confusion_matrix(target, y_pred)\n",
    "    labels = np.asarray(\n",
    "        [\n",
    "            [\"{0:0.0f}\".format(item) + \"\\n{0:.2%}\".format(item / cm.flatten().sum())]\n",
    "            for item in cm.flatten()\n",
    "        ]\n",
    "    ).reshape(2, 2)\n",
    "\n",
    "    plt.figure(figsize=(6, 4))\n",
    "    sns.heatmap(cm, annot=labels, fmt=\"\")\n",
    "    plt.ylabel(\"True label\")\n",
    "    plt.xlabel(\"Predicted label\")"
   ]
  },
  {
   "cell_type": "markdown",
   "metadata": {
    "id": "Rxw_gopM4jar"
   },
   "source": [
    "## **Defining scorer to be used for hyperparameter tuning**\n",
    "\n",
    "- Every prediction of a classification model will be either a TP, FP, FN or TN.\n",
    "- Till now at most of the places we wanted to reduce False negatives and hence we tried to maximize \"Recall\".\n",
    "- To maximize Recall, we used Recall as a **scorer** in hyperparameter tuning.\n",
    "- Here, we not only want to minimize false negatives but also false positives and we are also given the costs associated with each type of prediction.\n",
    "- So, overall we want to reduce the maintenance cost which is: `TP*(Repair cost) + FN*(Replacement cost) + FP*(Inspection cost)`\n",
    "- In simple language, we can say that we are assigning different weightage to the different types of predictions.\n",
    "- Do we have any such metric which can help us minimize the maintenance cost? i.e., help us reduce FP and FN as per the weightage - We don't have any such inbuilt metric.\n",
    "- In sklearn, we can define **custom scorers** also as per our need.\n",
    "- For this classification problem, we need to reduce the maintenance cost, which can be reiterated as:\n",
    "  - Minimize (maintenance cost)\n",
    "  - Maximize (1/maintenance cost)\n",
    "  - Maximize (minimum possible maintenance cost/maintenance cost)\n",
    "- Eventually, all 3 metrics will do the same work in the backend and the only difference will be in the scale of the values of the metric.\n",
    "\n",
    "- The metric provided in the next cell is to `maximize(minimum possible maintenance cost/maintenance cost)`\n",
    "- You can modify the metric as per convenience and use it further to tune the models."
   ]
  },
  {
   "cell_type": "code",
   "execution_count": 40,
   "metadata": {
    "id": "X09SzkBA4jas"
   },
   "outputs": [],
   "source": [
    "# defining metric to be used for optimization and with cross-validation\n",
    "def Minimum_Vs_Model_cost(y_train, y_pred):\n",
    "    \"\"\"\n",
    "    We want the model to optimize the maintenance cost and reduce it to the lowest possible value.\n",
    "    The lowest possible maintenance cost will be achieved when each sample is predicted correctly.\n",
    "\n",
    "    In such a scenario, the maintenance cost will be the total number of failures times the maintenance cost of replacing one generator,\n",
    "    which is given by (TP + FN) * 40 (i.e., the actual positives*40).\n",
    "    For any other scenario,\n",
    "    the maintenance cost associated with the model will be given by (TP * 15 + FP * 5 + FN * 40).\n",
    "\n",
    "    We will use the ratio of these two maintenance costs as the cost function for our model.\n",
    "    The greater the ratio, the lower the associated maintenance cost and the better the model.\n",
    "    \"\"\"\n",
    "    TP = metrics.confusion_matrix(y_train, y_pred)[1, 1]\n",
    "    FP = metrics.confusion_matrix(y_train, y_pred)[0, 1]\n",
    "    FN = metrics.confusion_matrix(y_train, y_pred)[1, 0]\n",
    "    return ((TP + FN) * 15) / (TP * 15 + FP * 5 + FN * 40)\n",
    "\n",
    "\n",
    "# A value of .80 here, will represent that the minimum maintenance cost is 80% of the maintenance cost associated with the model.\n",
    "# Since minimum maintenance cost is constant for any data, when minimum cost will become 100% of maintenance cost associated with the model\n",
    "# Model will have give the least possible maintenance cost.\n",
    "\n",
    "\n",
    "# Type of scoring used to compare parameter combinations\n",
    "scorer = metrics.make_scorer(Minimum_Vs_Model_cost, greater_is_better=True)\n",
    "\n",
    "# Higher the values, the lower the maintenance cost"
   ]
  },
  {
   "cell_type": "markdown",
   "metadata": {
    "id": "eqCDCbcw4jas"
   },
   "source": [
    "## Model Building with Original data"
   ]
  },
  {
   "cell_type": "code",
   "execution_count": 41,
   "metadata": {
    "id": "V-tpzI7g4jas"
   },
   "outputs": [],
   "source": [
    "#Defining our dependent variable,y as target, and independent variables.\n",
    "x = train.drop('Target',axis=1)\n",
    "y = train.pop('Target')\n",
    "\n",
    "\n",
    "#Splitting the train data into a train and validate set using a 80-20 split\n",
    "X_train,X_validate,y_train,y_validate = train_test_split(x,y, test_size=0.2,random_state=1)"
   ]
  },
  {
   "cell_type": "code",
   "execution_count": 42,
   "metadata": {},
   "outputs": [
    {
     "name": "stdout",
     "output_type": "stream",
     "text": [
      "Number of rows in train data = 32000\n",
      "Number of rows in validate data = 8000\n",
      "\n",
      "Distribution of target data in the train set:\n",
      "0    94.5\n",
      "1     5.5\n",
      "Name: Target, dtype: float64\n",
      "Distribution of target data in the validation set:\n",
      "0    94.6\n",
      "1     5.4\n",
      "Name: Target, dtype: float64\n"
     ]
    }
   ],
   "source": [
    "print(\"Number of rows in train data =\", X_train.shape[0])\n",
    "print(\"Number of rows in validate data =\", X_validate.shape[0])\n",
    "print(\"\\nDistribution of target data in the train set:\")\n",
    "print(round(y_train.value_counts(normalize=True),3)*100)\n",
    "print(\"Distribution of target data in the validation set:\")\n",
    "print(round(y_validate.value_counts(normalize=True),3)*100)"
   ]
  },
  {
   "cell_type": "markdown",
   "metadata": {},
   "source": [
    "The distribution of the target data in the train and validation sets is about the same, but as displayed through the EDA, very little data is present for target=1"
   ]
  },
  {
   "cell_type": "code",
   "execution_count": null,
   "metadata": {},
   "outputs": [],
   "source": []
  },
  {
   "cell_type": "code",
   "execution_count": 43,
   "metadata": {},
   "outputs": [
    {
     "name": "stdout",
     "output_type": "stream",
     "text": [
      "\n",
      "Cross-Validation Performance:\n",
      "\n",
      "Logistic Regression: 52.581817062057546\n",
      "Bagging: 68.67369938257175\n",
      "Random forest: 71.51243120148332\n",
      "GBM: 67.49182683337902\n",
      "Adaboost: 59.585835361184195\n",
      "Xgboost: 76.6090152145775\n",
      "dtree: 65.2454267353064\n",
      "\n",
      "Training Performance:\n",
      "\n",
      "Logistic Regression: 52.599540963975656\n",
      "Bagging: 93.40776182881446\n",
      "Random forest: 99.90523123578468\n",
      "GBM: 72.96511627906976\n",
      "Adaboost: 60.32272831311513\n",
      "Xgboost: 100.0\n",
      "dtree: 100.0\n"
     ]
    }
   ],
   "source": [
    "models = []  # Empty list to store all the models\n",
    "\n",
    "# Appending models into the list\n",
    "models.append((\"Logistic Regression\",LogisticRegression()))\n",
    "models.append((\"Bagging\", BaggingClassifier(random_state=1)))\n",
    "models.append((\"Random forest\", RandomForestClassifier(random_state=1)))\n",
    "models.append((\"GBM\", GradientBoostingClassifier(random_state=1)))\n",
    "models.append((\"Adaboost\", AdaBoostClassifier(random_state=1)))\n",
    "models.append((\"Xgboost\", XGBClassifier(random_state=1, eval_metric=\"logloss\")))\n",
    "models.append((\"dtree\", DecisionTreeClassifier(random_state=1)))\n",
    "\n",
    "results = []  # Empty list to store all model's CV scores\n",
    "names = []  # Empty list to store name of the models\n",
    "\n",
    "# loop through all models to get the mean cross validated score\n",
    "print(\"\\n\" \"Cross-Validation Performance:\" \"\\n\")\n",
    "\n",
    "for name, model in models:\n",
    "    kfold = StratifiedKFold(\n",
    "        n_splits=5, shuffle=True, random_state=1\n",
    "    )  # Setting number of splits equal to 5\n",
    "    cv_result = cross_val_score(\n",
    "        estimator=model, X=X_train, y=y_train, scoring=scorer, cv=kfold\n",
    "    )\n",
    "    results.append(cv_result)\n",
    "    names.append(name)\n",
    "    print(\"{}: {}\".format(name, cv_result.mean() * 100))\n",
    "\n",
    "print(\"\\n\" \"Training Performance:\" \"\\n\")\n",
    "\n",
    "for name, model in models:\n",
    "    model.fit(X_train, y_train)\n",
    "    scores = Minimum_Vs_Model_cost(y_train, model.predict(X_train)) * 100\n",
    "    print(\"{}: {}\".format(name, scores))"
   ]
  },
  {
   "cell_type": "code",
   "execution_count": 44,
   "metadata": {},
   "outputs": [
    {
     "data": {
      "image/png": "[encoded data removed]",
      "text/plain": [
       "<Figure size 720x504 with 1 Axes>"
      ]
     },
     "metadata": {
      "needs_background": "light"
     },
     "output_type": "display_data"
    }
   ],
   "source": [
    "# Plotting boxplots for CV scores of all models defined above\n",
    "fig = plt.figure(figsize=(10, 7))\n",
    "\n",
    "fig.suptitle(\"Algorithm Comparison\")\n",
    "ax = fig.add_subplot(111)\n",
    "\n",
    "plt.boxplot(results)\n",
    "ax.set_xticklabels(names)\n",
    "\n",
    "plt.show()"
   ]
  },
  {
   "cell_type": "markdown",
   "metadata": {},
   "source": [
    "* The best performing model based on cross-validated performance is the XGBoost, followed by the Random Forest and Decision Tree.\n",
    "\n",
    "* The best performance on the validation data set was also from teh XGBoost model, followed by the Random Forest and then the Bagging Classifier.\n",
    "\n",
    "* The Logistic Regression model displayed the worst performance in both cases."
   ]
  },
  {
   "cell_type": "markdown",
   "metadata": {
    "id": "oBKJaFU24jas"
   },
   "source": [
    "## Model Building with Oversampled data\n"
   ]
  },
  {
   "cell_type": "code",
   "execution_count": 45,
   "metadata": {
    "id": "FKxnygkE4jat"
   },
   "outputs": [],
   "source": [
    "# Synthetic Minority Over Sampling Technique\n",
    "sm = SMOTE(sampling_strategy=1, k_neighbors=5, random_state=1)\n",
    "X_train_over, y_train_over = sm.fit_resample(X_train, y_train)"
   ]
  },
  {
   "cell_type": "code",
   "execution_count": 46,
   "metadata": {},
   "outputs": [
    {
     "name": "stdout",
     "output_type": "stream",
     "text": [
      "The size of the oversampled data is: \n",
      "60486\n",
      "\n",
      "Distribution of target data in the oversampled data:\n",
      "0    50.0\n",
      "1    50.0\n",
      "Name: Target, dtype: float64\n"
     ]
    }
   ],
   "source": [
    "print(\"The size of the oversampled data is: \")\n",
    "print(X_train_over.shape[0])\n",
    "print(\"\\nDistribution of target data in the oversampled data:\")\n",
    "print(round(y_train_over.value_counts(normalize=True),3)*100)"
   ]
  },
  {
   "cell_type": "markdown",
   "metadata": {},
   "source": [
    "* The number of data points in the train set has increased from 32,000 to 60,486.\n",
    "* The percentage of data with target=0 has increased relative to the data set significantly, moving from just over 5% to 50%.\n",
    "* The data is now evenly split among the target variables"
   ]
  },
  {
   "cell_type": "code",
   "execution_count": 47,
   "metadata": {
    "id": "uYDlbnUO4jat"
   },
   "outputs": [
    {
     "name": "stdout",
     "output_type": "stream",
     "text": [
      "\n",
      "Cross-Validation Performance:\n",
      "\n",
      "Logistic Regression: 79.16923754435447\n",
      "Bagging: 95.49511639836963\n",
      "Random forest: 96.98605943097688\n",
      "GBM: 86.65998718924108\n",
      "Adaboost: 82.69082503518067\n",
      "Xgboost: 97.13344421672303\n",
      "dtree: 93.59667324986829\n"
     ]
    }
   ],
   "source": [
    "# loop through all models to get the mean cross validated score\n",
    "print(\"\\n\" \"Cross-Validation Performance:\" \"\\n\")\n",
    "for name, model in models:\n",
    "    kfold = StratifiedKFold(\n",
    "        n_splits=5, shuffle=True, random_state=1\n",
    "    )  # Setting number of splits equal to 5\n",
    "    cv_result = cross_val_score(\n",
    "        estimator=model, X=X_train_over, y=y_train_over, scoring=scorer, cv=kfold\n",
    "    )\n",
    "    results.append(cv_result)\n",
    "    names.append(name)\n",
    "    print(\"{}: {}\".format(name, cv_result.mean() * 100))\n"
   ]
  },
  {
   "cell_type": "code",
   "execution_count": 48,
   "metadata": {},
   "outputs": [
    {
     "name": "stdout",
     "output_type": "stream",
     "text": [
      "\n",
      "Training Performance:\n",
      "\n",
      "Logistic Regression: 79.2330733828782\n",
      "Bagging: 99.67371959659877\n",
      "Random forest: 100.0\n",
      "GBM: 87.09036456833496\n",
      "Adaboost: 82.9302402105956\n",
      "Xgboost: 99.72521131250069\n",
      "dtree: 100.0\n"
     ]
    }
   ],
   "source": [
    "print(\"\\n\" \"Training Performance:\" \"\\n\")\n",
    "\n",
    "for name, model in models:\n",
    "    model.fit(X_train_over, y_train_over)\n",
    "    scores = Minimum_Vs_Model_cost(y_train_over, model.predict(X_train_over)) * 100\n",
    "    print(\"{}: {}\".format(name, scores))"
   ]
  },
  {
   "cell_type": "code",
   "execution_count": 49,
   "metadata": {},
   "outputs": [
    {
     "data": {
      "image/png": "[encoded data removed]",
      "text/plain": [
       "<Figure size 720x504 with 1 Axes>"
      ]
     },
     "metadata": {
      "needs_background": "light"
     },
     "output_type": "display_data"
    }
   ],
   "source": [
    "# Plotting boxplots for CV scores of all models defined above\n",
    "fig = plt.figure(figsize=(10, 7))\n",
    "\n",
    "fig.suptitle(\"Algorithm Comparison\")\n",
    "ax = fig.add_subplot(111)\n",
    "\n",
    "plt.boxplot(results[7:])\n",
    "ax.set_xticklabels(names[7:])\n",
    "\n",
    "plt.show()"
   ]
  },
  {
   "cell_type": "markdown",
   "metadata": {},
   "source": [
    "* There is significant improvement in the cross-validated performance for all models.\n",
    "* XGBoost continues to show the best performance but the performance of the Random Forest improved enough to be on par with that of the XGBoost model.\n",
    "* The Logistic Regression model still has the worst performance of the lot."
   ]
  },
  {
   "cell_type": "markdown",
   "metadata": {
    "id": "1aimb6bn4jat"
   },
   "source": [
    "## Model Building with Undersampled data"
   ]
  },
  {
   "cell_type": "code",
   "execution_count": 50,
   "metadata": {
    "id": "DhxfTkvu4jat"
   },
   "outputs": [],
   "source": [
    "# Random undersampler for under sampling the data\n",
    "rus = RandomUnderSampler(random_state=1, sampling_strategy=1)\n",
    "X_train_un, y_train_un = rus.fit_resample(X_train, y_train)"
   ]
  },
  {
   "cell_type": "code",
   "execution_count": 51,
   "metadata": {
    "id": "jROP_DVF4jau"
   },
   "outputs": [
    {
     "name": "stdout",
     "output_type": "stream",
     "text": [
      "The size of the undersampled data is: \n",
      "3514\n",
      "\n",
      "Distribution of target data in the undersampled data:\n",
      "0    50.0\n",
      "1    50.0\n",
      "Name: Target, dtype: float64\n"
     ]
    }
   ],
   "source": [
    "print(\"The size of the undersampled data is: \")\n",
    "print(X_train_un.shape[0])\n",
    "print(\"\\nDistribution of target data in the undersampled data:\")\n",
    "print(round(y_train_un.value_counts(normalize=True),3)*100)"
   ]
  },
  {
   "cell_type": "markdown",
   "metadata": {},
   "source": [
    "* From under sampling the size of the data has been reduced from 32,000 entries to 3,514.\n",
    "* Similar to oversampling, the data is now evenly split based on the result of the target variable."
   ]
  },
  {
   "cell_type": "code",
   "execution_count": 60,
   "metadata": {},
   "outputs": [
    {
     "name": "stdout",
     "output_type": "stream",
     "text": [
      "\n",
      "Cross-Validation Performance:\n",
      "\n",
      "Logistic Regression: 77.15956539194137\n",
      "Bagging: 81.15248240157335\n",
      "Random forest: 84.54913330148874\n",
      "GBM: 83.03085250320338\n",
      "Adaboost: 78.63665758679524\n",
      "Xgboost: 84.36139736390558\n",
      "dtree: 77.85438355759557\n"
     ]
    }
   ],
   "source": [
    "print(\"\\n\" \"Cross-Validation Performance:\" \"\\n\")\n",
    "for name, model in models:\n",
    "    kfold = StratifiedKFold(\n",
    "        n_splits=5, shuffle=True, random_state=1\n",
    "    )  # Setting number of splits equal to 5\n",
    "    cv_result = cross_val_score(\n",
    "        estimator=model, X=X_train_un, y=y_train_un, scoring=scorer, cv=kfold\n",
    "    )\n",
    "    results.append(cv_result)\n",
    "    names.append(name)\n",
    "    print(\"{}: {}\".format(name, cv_result.mean() * 100))"
   ]
  },
  {
   "cell_type": "code",
   "execution_count": 53,
   "metadata": {},
   "outputs": [
    {
     "name": "stdout",
     "output_type": "stream",
     "text": [
      "\n",
      "Training Performance:\n",
      "\n",
      "Logistic Regression: 76.91521961184883\n",
      "Bagging: 96.83997795333455\n",
      "Random forest: 100.0\n",
      "GBM: 87.15277777777779\n",
      "Adaboost: 81.80971597082105\n",
      "Xgboost: 100.0\n",
      "dtree: 100.0\n"
     ]
    }
   ],
   "source": [
    "print(\"\\n\" \"Training Performance:\" \"\\n\")\n",
    "\n",
    "for name, model in models:\n",
    "    model.fit(X_train_un, y_train_un)\n",
    "    scores = Minimum_Vs_Model_cost(y_train_un, model.predict(X_train_un)) * 100\n",
    "    print(\"{}: {}\".format(name, scores))"
   ]
  },
  {
   "cell_type": "code",
   "execution_count": 61,
   "metadata": {
    "scrolled": true
   },
   "outputs": [
    {
     "data": {
      "image/png": "[encoded data removed]",
      "text/plain": [
       "<Figure size 720x504 with 1 Axes>"
      ]
     },
     "metadata": {
      "needs_background": "light"
     },
     "output_type": "display_data"
    }
   ],
   "source": [
    "# Plotting boxplots for CV scores of all models defined above\n",
    "fig = plt.figure(figsize=(10, 7))\n",
    "\n",
    "fig.suptitle(\"Algorithm Comparison\")\n",
    "ax = fig.add_subplot(111)\n",
    "\n",
    "plt.boxplot(results[21:])\n",
    "ax.set_xticklabels(names[21:])\n",
    "\n",
    "plt.show()"
   ]
  },
  {
   "cell_type": "markdown",
   "metadata": {},
   "source": [
    "* XGBoost continues to perform the best followed by Random Forest and Bagging models.\n",
    "* Performance of the validation set lags the cross-validated scores all around. "
   ]
  },
  {
   "cell_type": "markdown",
   "metadata": {
    "id": "50N658sB4jau"
   },
   "source": [
    "## Model Selection"
   ]
  },
  {
   "cell_type": "markdown",
   "metadata": {
    "id": "PFFwX4CG4jau"
   },
   "source": [
    "We will tune the XGBoost, Random Forest and Bagging Classifier Models, as all three recorded the highest scores in all three scenarios and therefore would be expected to perform the best.\n",
    "We will use the oversampled data to tune the model."
   ]
  },
  {
   "cell_type": "markdown",
   "metadata": {
    "id": "yZGY1eL84jau"
   },
   "source": [
    "## HyperparameterTuning "
   ]
  },
  {
   "cell_type": "markdown",
   "metadata": {
    "id": "czq7BZ5b4jau"
   },
   "source": [
    "- **Hyperparameter tuning can take a long time to run, so to avoid that time complexity - you can use the following grids, wherever required.**\n",
    "\n",
    "#### For XGBoost:\n",
    "param_grid={'n_estimators':np.arange(150,300,50),'scale_pos_weight':[5,10],\n",
    "            'learning_rate':[0.1,0.2], 'gamma':[0,3,5],\n",
    "            'subsample':[0.8,0.9]}\n",
    "\n",
    "#### For Gradient Boosting:\n",
    "param_grid = {\n",
    "    \"init\": [AdaBoostClassifier(random_state=1),DecisionTreeClassifier(random_state=1)],\n",
    "    \"n_estimators\": np.arange(75,150,25),\n",
    "    \"learning_rate\": [0.2, 0.05, 1],\n",
    "    \"subsample\":[0.5,0.7],\n",
    "    \"max_features\":[0.5,0.7]}\n",
    "\n",
    "\n",
    "#### For Adaboost:\n",
    "param_grid = {\n",
    "    \"n_estimators\": np.arange(10, 110, 20),\n",
    "    \"learning_rate\": [ 0.2, 0.05, 1],\n",
    "    \"base_estimator\": [\n",
    "        DecisionTreeClassifier(max_depth=1, random_state=1),\n",
    "        DecisionTreeClassifier(max_depth=2, random_state=1),\n",
    "        DecisionTreeClassifier(max_depth=3, random_state=1)]}\n",
    "\n",
    "#### For logistic Regression:\n",
    "param_grid = {'C': np.arange(0.1,1.1,0.1)}\n",
    "\n",
    "#### For Bagging Classifier:\n",
    "param_grid = {\n",
    "              'max_samples': [0.8,0.9], \n",
    "              'max_features': [0.8,0.9],\n",
    "              'n_estimators' : [40,50]}\n",
    "\n",
    "#### For Random Forest:\n",
    "param_grid = {\n",
    "    \"n_estimators\": [150,250],\n",
    "    \"min_samples_leaf\": np.arange(1, 3),\n",
    "    \"max_features\": ['sqrt','log2'],\n",
    "    \"max_samples\": np.arange(0.2, 0.6, 0.1)}\n",
    "\n",
    "#### For Decision Trees:\n",
    "param_grid = {'max_depth': np.arange(2,20), \n",
    "              'min_samples_leaf': [1, 2, 5, 7],\n",
    "              'max_leaf_nodes' : [5, 10,15],\n",
    "              'min_impurity_decrease': [0.0001,0.001]\n",
    "             }"
   ]
  },
  {
   "cell_type": "code",
   "execution_count": 86,
   "metadata": {
    "id": "tVZcJ0hv4jau"
   },
   "outputs": [
    {
     "name": "stdout",
     "output_type": "stream",
     "text": [
      "[02:32:07] WARNING: C:/Users/Administrator/workspace/xgboost-win64_release_1.5.0/src/learner.cc:1115: Starting in XGBoost 1.3.0, the default evaluation metric used with the objective 'binary:logistic' was changed from 'error' to 'logloss'. Explicitly set eval_metric if you'd like to restore the old behavior.\n",
      "[02:32:16] WARNING: C:/Users/Administrator/workspace/xgboost-win64_release_1.5.0/src/learner.cc:1115: Starting in XGBoost 1.3.0, the default evaluation metric used with the objective 'binary:logistic' was changed from 'error' to 'logloss'. Explicitly set eval_metric if you'd like to restore the old behavior.\n",
      "[02:32:28] WARNING: C:/Users/Administrator/workspace/xgboost-win64_release_1.5.0/src/learner.cc:1115: Starting in XGBoost 1.3.0, the default evaluation metric used with the objective 'binary:logistic' was changed from 'error' to 'logloss'. Explicitly set eval_metric if you'd like to restore the old behavior.\n",
      "[02:32:43] WARNING: C:/Users/Administrator/workspace/xgboost-win64_release_1.5.0/src/learner.cc:1115: Starting in XGBoost 1.3.0, the default evaluation metric used with the objective 'binary:logistic' was changed from 'error' to 'logloss'. Explicitly set eval_metric if you'd like to restore the old behavior.\n",
      "[02:32:57] WARNING: C:/Users/Administrator/workspace/xgboost-win64_release_1.5.0/src/learner.cc:1115: Starting in XGBoost 1.3.0, the default evaluation metric used with the objective 'binary:logistic' was changed from 'error' to 'logloss'. Explicitly set eval_metric if you'd like to restore the old behavior.\n",
      "[02:33:15] WARNING: C:/Users/Administrator/workspace/xgboost-win64_release_1.5.0/src/learner.cc:1115: Starting in XGBoost 1.3.0, the default evaluation metric used with the objective 'binary:logistic' was changed from 'error' to 'logloss'. Explicitly set eval_metric if you'd like to restore the old behavior.\n",
      "[02:33:31] WARNING: C:/Users/Administrator/workspace/xgboost-win64_release_1.5.0/src/learner.cc:1115: Starting in XGBoost 1.3.0, the default evaluation metric used with the objective 'binary:logistic' was changed from 'error' to 'logloss'. Explicitly set eval_metric if you'd like to restore the old behavior.\n",
      "[02:33:47] WARNING: C:/Users/Administrator/workspace/xgboost-win64_release_1.5.0/src/learner.cc:1115: Starting in XGBoost 1.3.0, the default evaluation metric used with the objective 'binary:logistic' was changed from 'error' to 'logloss'. Explicitly set eval_metric if you'd like to restore the old behavior.\n",
      "[02:34:03] WARNING: C:/Users/Administrator/workspace/xgboost-win64_release_1.5.0/src/learner.cc:1115: Starting in XGBoost 1.3.0, the default evaluation metric used with the objective 'binary:logistic' was changed from 'error' to 'logloss'. Explicitly set eval_metric if you'd like to restore the old behavior.\n",
      "[02:34:18] WARNING: C:/Users/Administrator/workspace/xgboost-win64_release_1.5.0/src/learner.cc:1115: Starting in XGBoost 1.3.0, the default evaluation metric used with the objective 'binary:logistic' was changed from 'error' to 'logloss'. Explicitly set eval_metric if you'd like to restore the old behavior.\n",
      "[02:34:32] WARNING: C:/Users/Administrator/workspace/xgboost-win64_release_1.5.0/src/learner.cc:1115: Starting in XGBoost 1.3.0, the default evaluation metric used with the objective 'binary:logistic' was changed from 'error' to 'logloss'. Explicitly set eval_metric if you'd like to restore the old behavior.\n",
      "Best Parameters:{'subsample': 0.9, 'scale_pos_weight': 10, 'n_estimators': 200, 'learning_rate': 0.2, 'gamma': 0} \n",
      "Score: 0.9786254053664576\n",
      "Wall time: 2min 54s\n"
     ]
    }
   ],
   "source": [
    "%%time \n",
    "import warnings\n",
    "warnings.filterwarnings(\"ignore\")\n",
    "# defining model\n",
    "model = XGBClassifier(random_state=1)\n",
    "\n",
    "# Parameter grid to pass in GridSearchCV\n",
    "param_grid={'n_estimators':np.arange(150,300,50),\n",
    "            'scale_pos_weight':[5,10],\n",
    "            'learning_rate':[0.1,0.2], 'gamma':[0,3,5],\n",
    "            'subsample':[0.8,0.9]}\n",
    "\n",
    "# Calling GridSearchCV\n",
    "grid_cv = RandomizedSearchCV(estimator=model, param_distributions=param_grid,\n",
    "                             scoring=scorer,n_iter = 5, cv=2, \n",
    "                             random_state=1)\n",
    "\n",
    "# Fitting parameters in GridSearchCV\n",
    "grid_cv.fit(X_train_over, y_train_over)\n",
    "\n",
    "print(\n",
    "    \"Best Parameters:{} \\nScore: {}\".format(grid_cv.best_params_, grid_cv.best_score_)\n",
    ")"
   ]
  },
  {
   "cell_type": "code",
   "execution_count": 90,
   "metadata": {},
   "outputs": [
    {
     "name": "stdout",
     "output_type": "stream",
     "text": [
      "[02:35:57] WARNING: C:/Users/Administrator/workspace/xgboost-win64_release_1.5.0/src/learner.cc:1115: Starting in XGBoost 1.3.0, the default evaluation metric used with the objective 'binary:logistic' was changed from 'error' to 'logloss'. Explicitly set eval_metric if you'd like to restore the old behavior.\n"
     ]
    },
    {
     "data": {
      "text/plain": [
       "XGBClassifier(base_score=0.5, booster='gbtree', colsample_bylevel=1,\n",
       "              colsample_bynode=1, colsample_bytree=1, enable_categorical=False,\n",
       "              gamma=0, gpu_id=-1, importance_type=None,\n",
       "              interaction_constraints='', learning_rate=0.2, max_delta_step=0,\n",
       "              max_depth=6, min_child_weight=1, missing=nan,\n",
       "              monotone_constraints='()', n_estimators=100, n_jobs=8,\n",
       "              num_parallel_tree=1, predictor='auto', random_state=1,\n",
       "              reg_alpha=0, reg_lambda=1, scale_pos_weight=10, subsample=0.9,\n",
       "              tree_method='exact', validate_parameters=1, verbosity=None)"
      ]
     },
     "execution_count": 90,
     "metadata": {},
     "output_type": "execute_result"
    }
   ],
   "source": [
    "xgb_tuned1 = XGBClassifier(\n",
    "    subsample=0.9 ,\n",
    "    scale_pos_weight=10 ,\n",
    "    n_estimators=100,\n",
    "    random_state=1,\n",
    "    learning_rate = 0.2 ,\n",
    "    gamma = 0)\n",
    "\n",
    "# Fit the model on training data\n",
    "xgb_tuned1.fit(X_train, y_train)"
   ]
  },
  {
   "cell_type": "code",
   "execution_count": 91,
   "metadata": {},
   "outputs": [
    {
     "name": "stdout",
     "output_type": "stream",
     "text": [
      "Training Performance: \n",
      "   Accuracy  Recall  Precision        F1  Minimum_Vs_Model_cost\n",
      "0  0.999594     1.0   0.992655  0.996314                0.99754\n",
      "\n",
      "Validation performance:\n",
      "   Accuracy    Recall  Precision        F1  Minimum_Vs_Model_cost\n",
      "0   0.99075  0.872093   0.951777  0.910194               0.814394\n"
     ]
    }
   ],
   "source": [
    "#Calculating the different metrics on the train data set\n",
    "xgb_random_train = model_performance_classification_sklearn(\n",
    "    xgb_tuned1, X_train, y_train\n",
    ")\n",
    "print('Training Performance: ')\n",
    "print(xgb_random_train)\n",
    "#Calculating the different metrics on the validation data set\n",
    "xgb_val_perf = model_performance_classification_sklearn(xgb_tuned1,\n",
    "                                                       X_validate,y_validate)\n",
    "print(\"\\nValidation performance:\")\n",
    "print(xgb_val_perf)"
   ]
  },
  {
   "cell_type": "code",
   "execution_count": null,
   "metadata": {},
   "outputs": [],
   "source": []
  },
  {
   "cell_type": "code",
   "execution_count": 59,
   "metadata": {},
   "outputs": [
    {
     "name": "stdout",
     "output_type": "stream",
     "text": [
      "Best Parameters:{'n_estimators': 250, 'min_samples_leaf': 2, 'max_samples': 0.4000000000000001, 'max_features': 'log2'} \n",
      "Score: 0.9453487683853726\n",
      "Wall time: 5min 21s\n"
     ]
    }
   ],
   "source": [
    "%%time \n",
    "\n",
    "# defining model\n",
    "model = RandomForestClassifier(random_state=1)\n",
    "\n",
    "# Parameter grid to pass in GridSearchCV\n",
    "param_grid = { \"n_estimators\": [150,250],\n",
    "              \"min_samples_leaf\": np.arange(1, 3),\n",
    "              \"max_features\": ['sqrt','log2'],\n",
    "              \"max_samples\": np.arange(0.2, 0.6, 0.1)}\n",
    "\n",
    "# Calling GridSearchCV\n",
    "grid_cv = RandomizedSearchCV(estimator=model, param_distributions=param_grid,\n",
    "                             scoring=scorer,n_iter = 5, cv=5, \n",
    "                             random_state=1)\n",
    "\n",
    "# Fitting parameters in GridSearchCV\n",
    "grid_cv.fit(X_train_over, y_train_over)\n",
    "\n",
    "print(\n",
    "    \"Best Parameters:{} \\nScore: {}\".format(grid_cv.best_params_, grid_cv.best_score_)\n",
    ")"
   ]
  },
  {
   "cell_type": "code",
   "execution_count": 62,
   "metadata": {
    "scrolled": true
   },
   "outputs": [
    {
     "data": {
      "text/plain": [
       "RandomForestClassifier(max_features='log2', max_samples=0.4, min_samples_leaf=2,\n",
       "                       n_estimators=250, random_state=1)"
      ]
     },
     "execution_count": 62,
     "metadata": {},
     "output_type": "execute_result"
    }
   ],
   "source": [
    "rf_tuned1 = RandomForestClassifier(\n",
    "    n_estimators= 250,\n",
    "    min_samples_leaf=2 ,\n",
    "    random_state=1,\n",
    "    max_samples = 0.4,\n",
    "    max_features = 'log2')\n",
    "\n",
    "# Fit the model on training data\n",
    "rf_tuned1.fit(X_train, y_train)"
   ]
  },
  {
   "cell_type": "code",
   "execution_count": 65,
   "metadata": {},
   "outputs": [
    {
     "name": "stdout",
     "output_type": "stream",
     "text": [
      "Training Performance: \n",
      "   Accuracy   Recall  Precision        F1  Minimum_Vs_Model_cost\n",
      "0  0.989875  0.81901   0.995848  0.898813               0.767584\n",
      "\n",
      "Validation performance:\n",
      "   Accuracy    Recall  Precision        F1  Minimum_Vs_Model_cost\n",
      "0    0.9855  0.737209   0.990625  0.845333               0.694295\n"
     ]
    }
   ],
   "source": [
    "#Calculating the different metrics on the train data set\n",
    "rf_random_train = model_performance_classification_sklearn(\n",
    "    rf_tuned1, X_train, y_train\n",
    ")\n",
    "print('Training Performance: ')\n",
    "print(rf_random_train)\n",
    "#Calculating the different metrics on the validation data set\n",
    "rf_val_perf = model_performance_classification_sklearn(rf_tuned1,\n",
    "                                                       X_validate,y_validate)\n",
    "print(\"\\nValidation performance:\")\n",
    "print(rf_val_perf)"
   ]
  },
  {
   "cell_type": "code",
   "execution_count": 67,
   "metadata": {},
   "outputs": [
    {
     "name": "stdout",
     "output_type": "stream",
     "text": [
      "Best Parameters:{'n_estimators': 50, 'max_samples': 0.9, 'max_features': 0.9} \n",
      "Score: 0.955731199533456\n",
      "Wall time: 7min 20s\n"
     ]
    }
   ],
   "source": [
    "%%time \n",
    "\n",
    "# defining model\n",
    "model = BaggingClassifier(random_state=1)\n",
    "\n",
    "# Parameter grid to pass in GridSearchCV\n",
    "param_grid = { 'max_samples': [0.8,0.9], 'max_features': [0.8,0.9],\n",
    "              'n_estimators' : [40,50]}\n",
    "\n",
    "# Calling GridSearchCV\n",
    "grid_cv = RandomizedSearchCV(estimator=model, param_distributions=param_grid,\n",
    "                             scoring=scorer,n_iter = 3, cv=3, \n",
    "                             random_state=1)\n",
    "\n",
    "# Fitting parameters in GridSearchCV\n",
    "grid_cv.fit(X_train_over, y_train_over)\n",
    "\n",
    "print(\n",
    "    \"Best Parameters:{} \\nScore: {}\".format(grid_cv.best_params_, grid_cv.best_score_)\n",
    ")"
   ]
  },
  {
   "cell_type": "code",
   "execution_count": 81,
   "metadata": {},
   "outputs": [
    {
     "data": {
      "text/plain": [
       "BaggingClassifier(max_features=0.9, max_samples=0.9, n_estimators=50,\n",
       "                  random_state=1)"
      ]
     },
     "execution_count": 81,
     "metadata": {},
     "output_type": "execute_result"
    }
   ],
   "source": [
    "bc_tuned1 = BaggingClassifier(\n",
    "    max_samples= 0.9,\n",
    "    max_features= 0.9,\n",
    "    random_state=1,\n",
    "    n_estimators = 50)\n",
    "\n",
    "# Fit the model on training data\n",
    "bc_tuned1.fit(X_train_over, y_train_over)"
   ]
  },
  {
   "cell_type": "code",
   "execution_count": 82,
   "metadata": {},
   "outputs": [
    {
     "name": "stdout",
     "output_type": "stream",
     "text": [
      "Training Performance: \n",
      "   Accuracy  Recall  Precision        F1  Minimum_Vs_Model_cost\n",
      "0  0.999969     1.0   0.999431  0.999716                0.99981\n",
      "\n",
      "Validation performance:\n",
      "   Accuracy    Recall  Precision        F1  Minimum_Vs_Model_cost\n",
      "0   0.98775  0.872093   0.897129  0.884434               0.802239\n"
     ]
    }
   ],
   "source": [
    "#Calculating the different metrics on the train data set\n",
    "bc_random_train = model_performance_classification_sklearn(\n",
    "    bc_tuned1, X_train, y_train\n",
    ")\n",
    "print('Training Performance: ')\n",
    "print(bc_random_train)\n",
    "#Calculating the different metrics on the validation data set\n",
    "bc_val_perf = model_performance_classification_sklearn(bc_tuned1,\n",
    "                                                       X_validate,y_validate)\n",
    "print(\"\\nValidation performance:\")\n",
    "print(bc_val_perf)"
   ]
  },
  {
   "cell_type": "code",
   "execution_count": 75,
   "metadata": {},
   "outputs": [
    {
     "name": "stdout",
     "output_type": "stream",
     "text": [
      "Best Parameters:{'min_samples_leaf': 7, 'min_impurity_decrease': 0.001, 'max_leaf_nodes': 15, 'max_depth': 6} \n",
      "Score: 0.8141316011066377\n",
      "Wall time: 32 s\n"
     ]
    }
   ],
   "source": [
    "%%time \n",
    "\n",
    "# defining model\n",
    "model = DecisionTreeClassifier(random_state=1)\n",
    "\n",
    "# Parameter grid to pass in GridSearchCV\n",
    "param_grid = {'max_depth': np.arange(2,20),\n",
    "              'min_samples_leaf': [1, 2, 5, 7],\n",
    "              'max_leaf_nodes' : [5, 10,15],\n",
    "              'min_impurity_decrease': [0.0001,0.001] }\n",
    "\n",
    "# Calling GridSearchCV\n",
    "grid_cv = RandomizedSearchCV(estimator=model, param_distributions=param_grid,\n",
    "                             scoring=scorer,n_iter = 10, cv=5, \n",
    "                             random_state=1)\n",
    "\n",
    "# Fitting parameters in GridSearchCV\n",
    "grid_cv.fit(X_train_over, y_train_over)\n",
    "\n",
    "print(\n",
    "    \"Best Parameters:{} \\nScore: {}\".format(grid_cv.best_params_, grid_cv.best_score_)\n",
    ")"
   ]
  },
  {
   "cell_type": "code",
   "execution_count": 79,
   "metadata": {},
   "outputs": [
    {
     "data": {
      "text/plain": [
       "DecisionTreeClassifier(max_depth=6, max_leaf_nodes=15,\n",
       "                       min_impurity_decrease=0.02, min_samples_leaf=7,\n",
       "                       random_state=1)"
      ]
     },
     "execution_count": 79,
     "metadata": {},
     "output_type": "execute_result"
    }
   ],
   "source": [
    "dt_tuned1 = DecisionTreeClassifier(\n",
    "    max_depth= 6,\n",
    "    min_samples_leaf= 7,\n",
    "    random_state=1,\n",
    "    max_leaf_nodes = 15,\n",
    "    min_impurity_decrease = 0.02)\n",
    "\n",
    "# Fit the model on training data\n",
    "dt_tuned1.fit(X_train_over, y_train_over)"
   ]
  },
  {
   "cell_type": "code",
   "execution_count": 80,
   "metadata": {},
   "outputs": [
    {
     "name": "stdout",
     "output_type": "stream",
     "text": [
      "Training Performance: \n",
      "   Accuracy    Recall  Precision        F1  Minimum_Vs_Model_cost\n",
      "0  0.883312  0.767217   0.288466  0.419285               0.495348\n",
      "\n",
      "Validation performance:\n",
      "   Accuracy    Recall  Precision        F1  Minimum_Vs_Model_cost\n",
      "0      0.89  0.776744   0.298748  0.431525                0.50509\n"
     ]
    }
   ],
   "source": [
    "dt_random_train = model_performance_classification_sklearn(\n",
    "    dt_tuned1, X_train, y_train\n",
    ")\n",
    "print('Training Performance: ')\n",
    "print(dt_random_train)\n",
    "#Calculating the different metrics on the validation data set\n",
    "dt_val_perf = model_performance_classification_sklearn(dt_tuned1,\n",
    "                                                       X_validate,y_validate)\n",
    "print(\"\\nValidation performance:\")\n",
    "print(dt_val_perf)"
   ]
  },
  {
   "cell_type": "markdown",
   "metadata": {},
   "source": []
  },
  {
   "cell_type": "markdown",
   "metadata": {
    "id": "D9JNnpxa4jau"
   },
   "source": [
    "## Model Performance comparison and choosing the final model"
   ]
  },
  {
   "cell_type": "code",
   "execution_count": 93,
   "metadata": {
    "id": "0JG85rkY4jav"
   },
   "outputs": [
    {
     "name": "stdout",
     "output_type": "stream",
     "text": [
      "Training performance comparison:\n"
     ]
    },
    {
     "data": {
      "text/html": [
       "<div>\n",
       "<style scoped>\n",
       "    .dataframe tbody tr th:only-of-type {\n",
       "        vertical-align: middle;\n",
       "    }\n",
       "\n",
       "    .dataframe tbody tr th {\n",
       "        vertical-align: top;\n",
       "    }\n",
       "\n",
       "    .dataframe thead th {\n",
       "        text-align: right;\n",
       "    }\n",
       "</style>\n",
       "<table border=\"1\" class=\"dataframe\">\n",
       "  <thead>\n",
       "    <tr style=\"text-align: right;\">\n",
       "      <th></th>\n",
       "      <th>XGB Tuned</th>\n",
       "      <th>Random Forest Tuned</th>\n",
       "      <th>Bagging Classifer Tuned</th>\n",
       "      <th>Decision Tree Tune</th>\n",
       "    </tr>\n",
       "  </thead>\n",
       "  <tbody>\n",
       "    <tr>\n",
       "      <th>Accuracy</th>\n",
       "      <td>0.999594</td>\n",
       "      <td>0.989875</td>\n",
       "      <td>0.999969</td>\n",
       "      <td>0.883312</td>\n",
       "    </tr>\n",
       "    <tr>\n",
       "      <th>Recall</th>\n",
       "      <td>1.000000</td>\n",
       "      <td>0.819010</td>\n",
       "      <td>1.000000</td>\n",
       "      <td>0.767217</td>\n",
       "    </tr>\n",
       "    <tr>\n",
       "      <th>Precision</th>\n",
       "      <td>0.992655</td>\n",
       "      <td>0.995848</td>\n",
       "      <td>0.999431</td>\n",
       "      <td>0.288466</td>\n",
       "    </tr>\n",
       "    <tr>\n",
       "      <th>F1</th>\n",
       "      <td>0.996314</td>\n",
       "      <td>0.898813</td>\n",
       "      <td>0.999716</td>\n",
       "      <td>0.419285</td>\n",
       "    </tr>\n",
       "    <tr>\n",
       "      <th>Minimum_Vs_Model_cost</th>\n",
       "      <td>0.997540</td>\n",
       "      <td>0.767584</td>\n",
       "      <td>0.999810</td>\n",
       "      <td>0.495348</td>\n",
       "    </tr>\n",
       "  </tbody>\n",
       "</table>\n",
       "</div>"
      ],
      "text/plain": [
       "                       XGB Tuned  Random Forest Tuned  \\\n",
       "Accuracy                0.999594             0.989875   \n",
       "Recall                  1.000000             0.819010   \n",
       "Precision               0.992655             0.995848   \n",
       "F1                      0.996314             0.898813   \n",
       "Minimum_Vs_Model_cost   0.997540             0.767584   \n",
       "\n",
       "                       Bagging Classifer Tuned  Decision Tree Tune  \n",
       "Accuracy                              0.999969            0.883312  \n",
       "Recall                                1.000000            0.767217  \n",
       "Precision                             0.999431            0.288466  \n",
       "F1                                    0.999716            0.419285  \n",
       "Minimum_Vs_Model_cost                 0.999810            0.495348  "
      ]
     },
     "execution_count": 93,
     "metadata": {},
     "output_type": "execute_result"
    }
   ],
   "source": [
    "# training performance comparison\n",
    "\n",
    "models_train_comp_df = pd.concat(\n",
    "    [\n",
    "       xgb_random_train.T,\n",
    "        rf_random_train.T,\n",
    "        bc_random_train.T,\n",
    "        dt_random_train.T,\n",
    "    ],\n",
    "    axis=1,\n",
    ")\n",
    "models_train_comp_df.columns = [\n",
    "    \"XGB Tuned\",\n",
    "    \"Random Forest Tuned\",\n",
    "    \"Bagging Classifer Tuned\",\n",
    "    \"Decision Tree Tune\",\n",
    "]\n",
    "print(\"Training performance comparison:\")\n",
    "models_train_comp_df"
   ]
  },
  {
   "cell_type": "code",
   "execution_count": 98,
   "metadata": {},
   "outputs": [
    {
     "name": "stdout",
     "output_type": "stream",
     "text": [
      "Validation performance comparison:\n"
     ]
    },
    {
     "data": {
      "text/html": [
       "<div>\n",
       "<style scoped>\n",
       "    .dataframe tbody tr th:only-of-type {\n",
       "        vertical-align: middle;\n",
       "    }\n",
       "\n",
       "    .dataframe tbody tr th {\n",
       "        vertical-align: top;\n",
       "    }\n",
       "\n",
       "    .dataframe thead th {\n",
       "        text-align: right;\n",
       "    }\n",
       "</style>\n",
       "<table border=\"1\" class=\"dataframe\">\n",
       "  <thead>\n",
       "    <tr style=\"text-align: right;\">\n",
       "      <th></th>\n",
       "      <th>XGB Tuned</th>\n",
       "      <th>Random Forest Tuned</th>\n",
       "      <th>Bagging Classifer Tuned</th>\n",
       "      <th>Decision Tree Tune</th>\n",
       "    </tr>\n",
       "  </thead>\n",
       "  <tbody>\n",
       "    <tr>\n",
       "      <th>Accuracy</th>\n",
       "      <td>0.990750</td>\n",
       "      <td>0.985500</td>\n",
       "      <td>0.987750</td>\n",
       "      <td>0.890000</td>\n",
       "    </tr>\n",
       "    <tr>\n",
       "      <th>Recall</th>\n",
       "      <td>0.872093</td>\n",
       "      <td>0.737209</td>\n",
       "      <td>0.872093</td>\n",
       "      <td>0.776744</td>\n",
       "    </tr>\n",
       "    <tr>\n",
       "      <th>Precision</th>\n",
       "      <td>0.951777</td>\n",
       "      <td>0.990625</td>\n",
       "      <td>0.897129</td>\n",
       "      <td>0.298748</td>\n",
       "    </tr>\n",
       "    <tr>\n",
       "      <th>F1</th>\n",
       "      <td>0.910194</td>\n",
       "      <td>0.845333</td>\n",
       "      <td>0.884434</td>\n",
       "      <td>0.431525</td>\n",
       "    </tr>\n",
       "    <tr>\n",
       "      <th>Minimum_Vs_Model_cost</th>\n",
       "      <td>0.814394</td>\n",
       "      <td>0.694295</td>\n",
       "      <td>0.802239</td>\n",
       "      <td>0.505090</td>\n",
       "    </tr>\n",
       "  </tbody>\n",
       "</table>\n",
       "</div>"
      ],
      "text/plain": [
       "                       XGB Tuned  Random Forest Tuned  \\\n",
       "Accuracy                0.990750             0.985500   \n",
       "Recall                  0.872093             0.737209   \n",
       "Precision               0.951777             0.990625   \n",
       "F1                      0.910194             0.845333   \n",
       "Minimum_Vs_Model_cost   0.814394             0.694295   \n",
       "\n",
       "                       Bagging Classifer Tuned  Decision Tree Tune  \n",
       "Accuracy                              0.987750            0.890000  \n",
       "Recall                                0.872093            0.776744  \n",
       "Precision                             0.897129            0.298748  \n",
       "F1                                    0.884434            0.431525  \n",
       "Minimum_Vs_Model_cost                 0.802239            0.505090  "
      ]
     },
     "execution_count": 98,
     "metadata": {},
     "output_type": "execute_result"
    }
   ],
   "source": [
    "# Validation performance comparison\n",
    "\n",
    "models_val_comp_df = pd.concat(\n",
    "    [\n",
    "        xgb_val_perf.T,\n",
    "        rf_val_perf.T,\n",
    "        bc_val_perf.T,\n",
    "        dt_val_perf.T,\n",
    "    ],\n",
    "    axis=1,\n",
    ")\n",
    "models_val_comp_df.columns = [\n",
    "    \"XGB Tuned\",\n",
    "    \"Random Forest Tuned\",\n",
    "    \"Bagging Classifer Tuned\",\n",
    "    \"Decision Tree Tune\",\n",
    "]\n",
    "print(\"Validation performance comparison:\")\n",
    "models_val_comp_df"
   ]
  },
  {
   "cell_type": "markdown",
   "metadata": {},
   "source": [
    "* The XGBoost model performs the best on the validation set giving a min vs model cost of 0.81. \n",
    "* Let us check the model performance of the tuned model on the test set."
   ]
  },
  {
   "cell_type": "markdown",
   "metadata": {
    "id": "d_pDMFAz4jav"
   },
   "source": [
    "## Test set final performance"
   ]
  },
  {
   "cell_type": "code",
   "execution_count": 100,
   "metadata": {
    "id": "g8-epsXv4jav"
   },
   "outputs": [
    {
     "name": "stdout",
     "output_type": "stream",
     "text": [
      "Test performance:\n"
     ]
    },
    {
     "data": {
      "text/html": [
       "<div>\n",
       "<style scoped>\n",
       "    .dataframe tbody tr th:only-of-type {\n",
       "        vertical-align: middle;\n",
       "    }\n",
       "\n",
       "    .dataframe tbody tr th {\n",
       "        vertical-align: top;\n",
       "    }\n",
       "\n",
       "    .dataframe thead th {\n",
       "        text-align: right;\n",
       "    }\n",
       "</style>\n",
       "<table border=\"1\" class=\"dataframe\">\n",
       "  <thead>\n",
       "    <tr style=\"text-align: right;\">\n",
       "      <th></th>\n",
       "      <th>Accuracy</th>\n",
       "      <th>Recall</th>\n",
       "      <th>Precision</th>\n",
       "      <th>F1</th>\n",
       "      <th>Minimum_Vs_Model_cost</th>\n",
       "    </tr>\n",
       "  </thead>\n",
       "  <tbody>\n",
       "    <tr>\n",
       "      <th>0</th>\n",
       "      <td>0.99</td>\n",
       "      <td>0.853748</td>\n",
       "      <td>0.958932</td>\n",
       "      <td>0.903288</td>\n",
       "      <td>0.796215</td>\n",
       "    </tr>\n",
       "  </tbody>\n",
       "</table>\n",
       "</div>"
      ],
      "text/plain": [
       "   Accuracy    Recall  Precision        F1  Minimum_Vs_Model_cost\n",
       "0      0.99  0.853748   0.958932  0.903288               0.796215"
      ]
     },
     "execution_count": 100,
     "metadata": {},
     "output_type": "execute_result"
    }
   ],
   "source": [
    "# Defining the dependent and independent random variables for the test set\n",
    "X_test = test.drop('Target',axis=1)\n",
    "y_test = test.pop('Target')\n",
    "\n",
    "# Calculating different metrics on the test set\n",
    "xgboost_grid_test = model_performance_classification_sklearn(xgb_tuned1, X_test, y_test)\n",
    "print(\"Test performance:\")\n",
    "xgboost_grid_test"
   ]
  },
  {
   "cell_type": "markdown",
   "metadata": {},
   "source": [
    "* The performance on the test set is generalized."
   ]
  },
  {
   "cell_type": "code",
   "execution_count": 118,
   "metadata": {},
   "outputs": [
    {
     "data": {
      "image/png": "[encoded data removed]",
      "text/plain": [
       "<Figure size 864x864 with 1 Axes>"
      ]
     },
     "metadata": {
      "needs_background": "light"
     },
     "output_type": "display_data"
    }
   ],
   "source": [
    "feature_names = X_test.columns\n",
    "importances = xgb_tuned1.feature_importances_\n",
    "indices = np.argsort(importances)\n",
    "\n",
    "plt.figure(figsize=(12, 12))\n",
    "plt.title(\"Feature Importances\")\n",
    "plt.barh(range(len(indices)), importances[indices], color=\"violet\", align=\"center\")\n",
    "plt.yticks(range(len(indices)), [feature_names[i] for i in indices])\n",
    "plt.xlabel(\"Relative Importance\")\n",
    "plt.show()"
   ]
  },
  {
   "cell_type": "code",
   "execution_count": 119,
   "metadata": {},
   "outputs": [
    {
     "data": {
      "image/png": "[encoded data removed]",
      "text/plain": [
       "<Figure size 432x288 with 2 Axes>"
      ]
     },
     "metadata": {
      "needs_background": "light"
     },
     "output_type": "display_data"
    }
   ],
   "source": [
    "confusion_matrix_sklearn(xgb_tuned1, X_test, y_test)"
   ]
  },
  {
   "cell_type": "markdown",
   "metadata": {
    "id": "TM6VZTRn4jav"
   },
   "source": [
    "## Pipelines to build the final model\n"
   ]
  },
  {
   "cell_type": "markdown",
   "metadata": {
    "id": "Zzg12gvx4jav"
   },
   "source": [
    "* For numerical columns, we will do missing value imputation as pre-processing.\n",
    "* We are doing missing value imputation for the whole data, so that if there is any missing value in the data in future that can be taken care of."
   ]
  },
  {
   "cell_type": "code",
   "execution_count": null,
   "metadata": {},
   "outputs": [],
   "source": []
  },
  {
   "cell_type": "code",
   "execution_count": 117,
   "metadata": {},
   "outputs": [
    {
     "name": "stdout",
     "output_type": "stream",
     "text": [
      "[02:56:12] WARNING: C:/Users/Administrator/workspace/xgboost-win64_release_1.5.0/src/learner.cc:1115: Starting in XGBoost 1.3.0, the default evaluation metric used with the objective 'binary:logistic' was changed from 'error' to 'logloss'. Explicitly set eval_metric if you'd like to restore the old behavior.\n"
     ]
    },
    {
     "data": {
      "text/plain": [
       "Pipeline(steps=[('imputer', SimpleImputer()),\n",
       "                ('XGB',\n",
       "                 XGBClassifier(base_score=0.5, booster='gbtree',\n",
       "                               colsample_bylevel=1, colsample_bynode=1,\n",
       "                               colsample_bytree=1, enable_categorical=False,\n",
       "                               gamma=0, gpu_id=-1, importance_type=None,\n",
       "                               interaction_constraints='', learning_rate=0.2,\n",
       "                               max_delta_step=0, max_depth=6,\n",
       "                               min_child_weight=1, missing=nan,\n",
       "                               monotone_constraints='()', n_estimators=100,\n",
       "                               n_jobs=8, num_parallel_tree=1, predictor='auto',\n",
       "                               random_state=1, reg_alpha=0, reg_lambda=1,\n",
       "                               scale_pos_weight=10, subsample=0.9,\n",
       "                               tree_method='exact', validate_parameters=1,\n",
       "                               verbosity=None))])"
      ]
     },
     "execution_count": 117,
     "metadata": {},
     "output_type": "execute_result"
    }
   ],
   "source": [
    "model = Pipeline(\n",
    "    steps=[\n",
    "        (\"imputer\", SimpleImputer(strategy=\"mean\")),\n",
    "        (\n",
    "            \"XGB\",\n",
    "            XGBClassifier(\n",
    "               subsample=0.9 ,\n",
    "               scale_pos_weight=10 ,\n",
    "               n_estimators=100,\n",
    "               random_state=1,\n",
    "               learning_rate = 0.2 ,\n",
    "                gamma = 0),\n",
    "        ),\n",
    "    ]\n",
    ")\n",
    "# Fit the model on training data\n",
    "model.fit(X_train, y_train)"
   ]
  },
  {
   "cell_type": "markdown",
   "metadata": {
    "id": "c5hPmHyR4jaw"
   },
   "source": [
    "# Business Insights and Conclusions"
   ]
  },
  {
   "cell_type": "markdown",
   "metadata": {
    "id": "FnBbg6sH4jaw"
   },
   "source": [
    "* Our model shows that V18, V39, V2 and V26 predictors are the most important determinants for fairlure or no failure of a generator. \n",
    "* Maintenance costs from our model are around 25% higher than the minimum maintenance costs.\n",
    "* If the model were to predict no failure, it is correct 99.8% of the time.\n",
    "* If the model were to predict a failure, it is correct ,ie the generators have failed, 95.9% of the time."
   ]
  }
 ],
 "metadata": {
  "colab": {
   "name": "Learner's_notebook.ipynb",
   "provenance": []
  },
  "kernelspec": {
   "display_name": "Python 3",
   "language": "python",
   "name": "python3"
  },
  "language_info": {
   "codemirror_mode": {
    "name": "ipython",
    "version": 3
   },
   "file_extension": ".py",
   "mimetype": "text/x-python",
   "name": "python",
   "nbconvert_exporter": "python",
   "pygments_lexer": "ipython3",
   "version": "3.8.8"
  }
 },
 "nbformat": 4,
 "nbformat_minor": 1
}
